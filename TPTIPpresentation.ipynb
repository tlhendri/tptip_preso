{
 "cells": [
  {
   "cell_type": "code",
   "execution_count": 9,
   "metadata": {
    "slideshow": {
     "slide_type": "skip"
    }
   },
   "outputs": [],
   "source": [
    "import warnings\n",
    "warnings.filterwarnings(\"ignore\")\n",
    "\n",
    "import requests\n",
    "import ipaddress"
   ]
  },
  {
   "cell_type": "markdown",
   "metadata": {
    "slideshow": {
     "slide_type": "slide"
    }
   },
   "source": [
    "<IMG src=\"./images/Notebook/Slide1.jpeg\">"
   ]
  },
  {
   "cell_type": "markdown",
   "metadata": {
    "slideshow": {
     "slide_type": "notes"
    }
   },
   "source": [
    "* Jupyter Ascending - movie from 2015\n",
    "* Wachowskis - matrix fame, v for vendetta"
   ]
  },
  {
   "cell_type": "markdown",
   "metadata": {
    "slideshow": {
     "slide_type": "slide"
    }
   },
   "source": [
    "<IMG src=\"./images/Notebook/Slide2.jpeg\">"
   ]
  },
  {
   "cell_type": "markdown",
   "metadata": {
    "slideshow": {
     "slide_type": "notes"
    }
   },
   "source": [
    "* Take aways\n",
    "* get interested in the subject\n",
    "* not an expert in any of this\n",
    "* changes since it was oringally crafted in 2019\n",
    "* Understand the need\n",
    "* Where does it fit in the SOC\n",
    "* How can you integrate this into your job\n",
    "* Steps to get started"
   ]
  },
  {
   "cell_type": "markdown",
   "metadata": {
    "slideshow": {
     "slide_type": "slide"
    }
   },
   "source": [
    "<IMG src=\"./images/Notebook/Slide3.jpeg\">"
   ]
  },
  {
   "cell_type": "markdown",
   "metadata": {
    "slideshow": {
     "slide_type": "notes"
    }
   },
   "source": [
    "* talk about last presentation and how the presentation is:\n",
    " * a combination of powerpoint slides as jpeg, \n",
    " * notes and pictures in HTML, \n",
    " * code as run in jupyter, and \n",
    " * reveal.js"
   ]
  },
  {
   "cell_type": "markdown",
   "metadata": {
    "slideshow": {
     "slide_type": "slide"
    }
   },
   "source": [
    "<IMG src=\"./images/Notebook/Slide4.jpeg\">"
   ]
  },
  {
   "cell_type": "markdown",
   "metadata": {
    "slideshow": {
     "slide_type": "notes"
    }
   },
   "source": [
    "## History of notebook technologies"
   ]
  },
  {
   "cell_type": "code",
   "execution_count": 12,
   "metadata": {
    "slideshow": {
     "slide_type": "slide"
    }
   },
   "outputs": [
    {
     "name": "stdout",
     "output_type": "stream",
     "text": [
      "total 480\n",
      "drwxr-xr-x  11 c266770  staff     352 Jul 24 13:07 \u001b[34m.\u001b[m\u001b[m\n",
      "drwxr-xr-x  11 c266770  staff     352 Jul 14 13:01 \u001b[34m..\u001b[m\u001b[m\n",
      "-rw-r--r--@  1 c266770  staff    8196 Jul 24 12:26 .DS_Store\n",
      "drwxr-xr-x  12 c266770  staff     384 Jul 20 17:20 \u001b[34m.git\u001b[m\u001b[m\n",
      "drwxr-xr-x   3 c266770  staff      96 Jul 20 16:20 \u001b[34m.ipynb_checkpoints\u001b[m\u001b[m\n",
      "-rw-r--r--@  1 c266770  staff  216997 Jul 24 12:24 Notebook.pptx\n",
      "-rw-r--r--@  1 c266770  staff    6610 Jul 24 13:07 TPTIPpresentation.ipynb\n",
      "drwxr-xr-x   4 c266770  staff     128 Jul 24 12:28 \u001b[34mimages\u001b[m\u001b[m\n",
      "-rw-r--r--@  1 c266770  staff     531 Apr  9  2019 notes\n",
      "drwxr-xr-x  18 c266770  staff     576 Mar  2  2019 \u001b[34mreveal.js\u001b[m\u001b[m\n",
      "-rw-r--r--@  1 c266770  staff     165 Jul 24 12:25 ~$Notebook.pptx\n"
     ]
    },
    {
     "data": {
      "text/html": [
       "<div>\n",
       "<style scoped>\n",
       "    .dataframe tbody tr th:only-of-type {\n",
       "        vertical-align: middle;\n",
       "    }\n",
       "\n",
       "    .dataframe tbody tr th {\n",
       "        vertical-align: top;\n",
       "    }\n",
       "\n",
       "    .dataframe thead th {\n",
       "        text-align: right;\n",
       "    }\n",
       "</style>\n",
       "<table border=\"1\" class=\"dataframe\">\n",
       "  <thead>\n",
       "    <tr style=\"text-align: right;\">\n",
       "      <th></th>\n",
       "      <th>md5hash</th>\n",
       "    </tr>\n",
       "  </thead>\n",
       "  <tbody>\n",
       "    <tr>\n",
       "      <th>0</th>\n",
       "      <td>866fcd320412a9fdd78aefc31372c74e</td>\n",
       "    </tr>\n",
       "    <tr>\n",
       "      <th>1</th>\n",
       "      <td>29c1a72fa565f339065d1f6c8a58de11</td>\n",
       "    </tr>\n",
       "    <tr>\n",
       "      <th>2</th>\n",
       "      <td>38acd35c1b04167823c83bbd8a12352c</td>\n",
       "    </tr>\n",
       "    <tr>\n",
       "      <th>3</th>\n",
       "      <td>28b78a1ab9f541a0a85cb853eb556fe8</td>\n",
       "    </tr>\n",
       "    <tr>\n",
       "      <th>4</th>\n",
       "      <td>ac8c1fa592b1551fd57072c371b7c748</td>\n",
       "    </tr>\n",
       "  </tbody>\n",
       "</table>\n",
       "</div>"
      ],
      "text/plain": [
       "                            md5hash\n",
       "0  866fcd320412a9fdd78aefc31372c74e\n",
       "1  29c1a72fa565f339065d1f6c8a58de11\n",
       "2  38acd35c1b04167823c83bbd8a12352c\n",
       "3  28b78a1ab9f541a0a85cb853eb556fe8\n",
       "4  ac8c1fa592b1551fd57072c371b7c748"
      ]
     },
     "execution_count": 12,
     "metadata": {},
     "output_type": "execute_result"
    }
   ],
   "source": [
    "# What a Jupyter cell looks like\n",
    "\n",
    "#bounce to a shell\n",
    "!ls -la\n",
    "\n",
    "# magic commands\n",
    "%run ../../../Desktop/notebooks/codeChunk/lillyMailer.ipynb\n",
    "\n",
    "# seperate development env through anaconda\n",
    "import pandas as pd\n",
    "import os\n",
    "some_directory = '/tmp'\n",
    "\n",
    "test = ['866fcd320412a9fdd78aefc31372c74e', #Filezilla\n",
    "        '29c1a72fa565f339065d1f6c8a58de11', #Fake AV - Ming web report\n",
    "        '38acd35c1b04167823c83bbd8a12352c', #Packer - RDPOn.exe\n",
    "        '28b78a1ab9f541a0a85cb853eb556fe8', #Adware - Coupons\n",
    "        'ac8c1fa592b1551fd57072c371b7c748'] #Asparnet\n",
    "\n",
    "pd.DataFrame(test, columns=['md5hash'])"
   ]
  },
  {
   "cell_type": "markdown",
   "metadata": {
    "slideshow": {
     "slide_type": "notes"
    }
   },
   "source": [
    "* magic\n",
    "* shell\n",
    "* pandas"
   ]
  },
  {
   "cell_type": "code",
   "execution_count": 14,
   "metadata": {
    "slideshow": {
     "slide_type": "skip"
    }
   },
   "outputs": [
    {
     "name": "stdout",
     "output_type": "stream",
     "text": [
      "[NbConvertApp] Converting notebook ./TPTIPpresentation.ipynb to slides\n",
      "[NbConvertApp] Writing 283884 bytes to ./TPTIPpresentation.slides.html\n"
     ]
    }
   ],
   "source": [
    "!jupyter-nbconvert --to slides ./TPTIPpresentation.ipynb \\\n",
    "--reveal-prefix=reveal.js \\\n",
    "--SlidesExporter.reveal_transition=zoom \\\n",
    "--SlidesExporter.reveal_scroll=True"
   ]
  }
 ],
 "metadata": {
  "celltoolbar": "Slideshow",
  "kernelspec": {
   "display_name": "Python 3",
   "language": "python",
   "name": "python3"
  },
  "language_info": {
   "codemirror_mode": {
    "name": "ipython",
    "version": 3
   },
   "file_extension": ".py",
   "mimetype": "text/x-python",
   "name": "python",
   "nbconvert_exporter": "python",
   "pygments_lexer": "ipython3",
   "version": "3.7.7"
  }
 },
 "nbformat": 4,
 "nbformat_minor": 4
}
