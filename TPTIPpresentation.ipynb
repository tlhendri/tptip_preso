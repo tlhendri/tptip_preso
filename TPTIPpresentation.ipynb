{
 "cells": [
  {
   "cell_type": "code",
   "execution_count": 1,
   "metadata": {
    "slideshow": {
     "slide_type": "skip"
    }
   },
   "outputs": [],
   "source": [
    "import warnings\n",
    "warnings.filterwarnings(\"ignore\")\n",
    "\n",
    "import requests\n",
    "import ipaddress"
   ]
  },
  {
   "cell_type": "markdown",
   "metadata": {
    "slideshow": {
     "slide_type": "slide"
    }
   },
   "source": [
    "<IMG src=\"./images/Notebook/Slide1.jpeg\">"
   ]
  },
  {
   "cell_type": "markdown",
   "metadata": {
    "slideshow": {
     "slide_type": "slide"
    }
   },
   "source": [
    "<IMG src=\"./images/Notebook/Slide2.jpeg\">"
   ]
  },
  {
   "cell_type": "markdown",
   "metadata": {
    "slideshow": {
     "slide_type": "notes"
    }
   },
   "source": [
    "certifications<br>\n",
    "engineering, wisconsin, boston<br>\n",
    "threat hunting"
   ]
  },
  {
   "cell_type": "markdown",
   "metadata": {
    "slideshow": {
     "slide_type": "slide"
    }
   },
   "source": [
    "<IMG src=\"./images/Notebook/Slide3.jpeg\">"
   ]
  },
  {
   "cell_type": "markdown",
   "metadata": {
    "slideshow": {
     "slide_type": "notes"
    }
   },
   "source": [
    "Understand the need <br>\n",
    "Where does it fit in the SOC <br>\n",
    "How can you integrate this into your job<br>\n",
    "Steps to get started<br>"
   ]
  },
  {
   "cell_type": "markdown",
   "metadata": {
    "slideshow": {
     "slide_type": "slide"
    }
   },
   "source": [
    "<IMG src=\"./images/Notebook/Slide4.jpeg\">"
   ]
  },
  {
   "cell_type": "markdown",
   "metadata": {
    "slideshow": {
     "slide_type": "notes"
    }
   },
   "source": [
    "what is a dataframe? <br>\n",
    "development - cell by cell. try/repeat <br>\n",
    "classes are conducted on jupyter. classroms use jupyterhub for code base. git supports notebook display <br>\n",
    "notebooks are great for SOC to make small adjustments and find the answers they need quick <br>\n",
    "talk about last presentation and how the presentation is a combination of powerpoint slides as jpeg, notes and pictures in HTML, code as run in jupyter, and reveal.js<br>"
   ]
  },
  {
   "cell_type": "markdown",
   "metadata": {
    "slideshow": {
     "slide_type": "slide"
    }
   },
   "source": [
    "<IMG src=\"./images/Notebook/Slide14.jpeg\">"
   ]
  },
  {
   "cell_type": "markdown",
   "metadata": {
    "slideshow": {
     "slide_type": "notes"
    }
   },
   "source": [
    "What causes analyst fatigure <br>\n",
    "too many - false positive, true positive with no actions<br>\n",
    "detections that take hours to figure out <br>\n",
    "analysts get use to certain events and certain playbooks - remove context <br>\n",
    "attrition <br>\n",
    "where do the notebooks fit?<br>"
   ]
  },
  {
   "cell_type": "markdown",
   "metadata": {
    "slideshow": {
     "slide_type": "slide"
    }
   },
   "source": [
    "<IMG src=\"./images/Notebook/Slide15.jpeg\">"
   ]
  },
  {
   "cell_type": "markdown",
   "metadata": {
    "slideshow": {
     "slide_type": "notes"
    }
   },
   "source": [
    "notebooks permit for tasks to be completely automated. <br>\n",
    "need to look up 20000 hashes. no problem. +other examples <br>\n",
    "by using notebooks to develop microservice items - reduce false positives <br>\n",
    "allowing analysts to sideline tasks that consume time. <br>\n",
    "perfect playground. <br>\n",
    "And easily shared. - knowledge respository"
   ]
  },
  {
   "cell_type": "markdown",
   "metadata": {
    "slideshow": {
     "slide_type": "slide"
    }
   },
   "source": [
    "<IMG src=\"./images/Notebook/Slide5.jpeg\">"
   ]
  },
  {
   "cell_type": "markdown",
   "metadata": {
    "slideshow": {
     "slide_type": "notes"
    }
   },
   "source": [
    "evolution <br>\n",
    "feature richness <br>"
   ]
  },
  {
   "cell_type": "markdown",
   "metadata": {
    "slideshow": {
     "slide_type": "slide"
    }
   },
   "source": [
    "<IMG src=\"./images/Notebook/Slide6.jpeg\">"
   ]
  },
  {
   "cell_type": "markdown",
   "metadata": {
    "slideshow": {
     "slide_type": "notes"
    }
   },
   "source": [
    "examples and tangents <br>"
   ]
  },
  {
   "cell_type": "markdown",
   "metadata": {
    "slideshow": {
     "slide_type": "slide"
    }
   },
   "source": [
    "<IMG src=\"./images/Notebook/Slide7.jpeg\">"
   ]
  },
  {
   "cell_type": "markdown",
   "metadata": {
    "slideshow": {
     "slide_type": "notes"
    }
   },
   "source": [
    "GeoLite2 = Maxmind = ArcSight + 1000s more <br>\n",
    "600M IP allocated to Potwin Kansas"
   ]
  },
  {
   "cell_type": "code",
   "execution_count": 2,
   "metadata": {
    "slideshow": {
     "slide_type": "slide"
    }
   },
   "outputs": [],
   "source": [
    "#%pip install geoip2\n",
    "\n",
    "#https://dev.maxmind.com/geoip/geoip2/geolite2/\n",
    "#This product includes GeoLite2 data created by MaxMind, available from\n",
    "#<a href=\"http://www.maxmind.com\">http://www.maxmind.com</a>\n",
    "\n",
    "import geoip2.database\n",
    "reader = geoip2.database.Reader('Downloads/GeoLite2-City.mmdb')"
   ]
  },
  {
   "cell_type": "markdown",
   "metadata": {
    "slideshow": {
     "slide_type": "notes"
    }
   },
   "source": [
    "Maxmind paid and free offerings. <br>\n",
    "Download and install geoip2 library <br>\n",
    "pip availible install - see the magic command<br>"
   ]
  },
  {
   "cell_type": "code",
   "execution_count": 3,
   "metadata": {
    "slideshow": {
     "slide_type": "slide"
    }
   },
   "outputs": [],
   "source": [
    "import pandas \n",
    "import os\n",
    "import numpy as np\n",
    "from multiprocessing import cpu_count, Pool\n",
    "from functools import partial\n",
    "\n",
    "directory = '../../../Desktop/reports/ids/'\n",
    "df_ids = pandas.DataFrame()\n",
    "\n",
    "files = [os.path.join(directory, f) for f in os.listdir(directory) if os.path.isfile(os.path.join(directory, f))]\n",
    "for file in files:\n",
    "    df_temp = pandas.read_csv(file)\n",
    "    df_ids = pandas.concat([df_ids, df_temp], sort=False)\n",
    "    \n",
    "df_ids = df_ids[-((df_ids[\"Source Address\"].str.startswith('40.')) &\n",
    "                  (df_ids[\"Destination Address\"].str.startswith('40.')))].reset_index()\n",
    "\n",
    "df_ids2 = df_ids.copy()\n",
    "df_ids3 = df_ids.copy()"
   ]
  },
  {
   "cell_type": "markdown",
   "metadata": {
    "slideshow": {
     "slide_type": "notes"
    }
   },
   "source": [
    "set up for a dataframe with all the items in a dataframe<br>\n",
    "improvement from last time that this was accomplished - concat versus iterate <br>\n",
    "remove the records with both internal addresses <br>\n",
    "deep copy the dataframe for a test <br."
   ]
  },
  {
   "cell_type": "code",
   "execution_count": 4,
   "metadata": {
    "slideshow": {
     "slide_type": "slide"
    }
   },
   "outputs": [
    {
     "name": "stdout",
     "output_type": "stream",
     "text": [
      "CPU times: user 1.55 s, sys: 20.4 ms, total: 1.57 s\n",
      "Wall time: 1.57 s\n"
     ]
    }
   ],
   "source": [
    "%%time \n",
    "#magic function\n",
    "\n",
    "#function to take across dataframe\n",
    "def lookup_addy(row):\n",
    "    if row[\"Source Address\"].startswith('40.'):\n",
    "        return row[\"Destination Address\"]\n",
    "    else:\n",
    "        return row[\"Source Address\"]\n",
    "\n",
    "#normal pandas dataframe apply\n",
    "df_ids['outside_addy'] = df_ids.apply(lookup_addy, axis=1)\n",
    "\n",
    "#get rid of all the rfc1918\n",
    "df_ids = df_ids[-((df_ids['outside_addy'].str.startswith('10.')) |\n",
    "                  (df_ids['outside_addy'].str.startswith('172.16.')) |\n",
    "                  (df_ids['outside_addy'].str.startswith('172.2')) |\n",
    "                  (df_ids['outside_addy'].str.startswith('192.168.')))]"
   ]
  },
  {
   "cell_type": "markdown",
   "metadata": {
    "slideshow": {
     "slide_type": "notes"
    }
   },
   "source": [
    "Magic function to time the execution of a cell<br>\n",
    "figuring out what address to use to lookup up <br>\n",
    "Apply to another column in dataframe - outside addy <br>\n",
    "remove all the rfc1918 <br>\n",
    "output = time <br>"
   ]
  },
  {
   "cell_type": "code",
   "execution_count": 5,
   "metadata": {
    "slideshow": {
     "slide_type": "slide"
    }
   },
   "outputs": [
    {
     "name": "stdout",
     "output_type": "stream",
     "text": [
      "CPU times: user 2.08 s, sys: 17.8 ms, total: 2.09 s\n",
      "Wall time: 2.09 s\n"
     ]
    }
   ],
   "source": [
    "%%time\n",
    "\n",
    "def lookup_addy(row):\n",
    "    if row[\"Source Address\"].startswith('40.'):\n",
    "        outside = row[\"Destination Address\"]\n",
    "    else:\n",
    "        outside = row[\"Source Address\"]\n",
    "    try:\n",
    "        if ipaddress.ip_address(outside).is_global:\n",
    "            return outside\n",
    "        else:\n",
    "            return 'local'\n",
    "    except:\n",
    "        return 'local'\n",
    "    \n",
    "#normal pandas dataframe apply\n",
    "df_ids['outside_addy'] = df_ids.apply(lookup_addy, axis=1)\n",
    "\n",
    "df_ids = df_ids[-(df_ids['outside_addy'] == 'local')]"
   ]
  },
  {
   "cell_type": "markdown",
   "metadata": {
    "slideshow": {
     "slide_type": "notes"
    }
   },
   "source": [
    "i screwed up<br>\n",
    "fix the rfc 1918 <br>\n",
    "ipobject <br>\n",
    "less filtering and more valid rfc1918 3171 2371"
   ]
  },
  {
   "cell_type": "code",
   "execution_count": 6,
   "metadata": {
    "slideshow": {
     "slide_type": "slide"
    }
   },
   "outputs": [],
   "source": [
    "#set up a pool\n",
    "cores = cpu_count() #Number of CPU cores on your system\n",
    "partitions = cores  #Cores equal the number of splits to the dataframe\n",
    "\n",
    "#function to apply\n",
    "def lookup_addy2(row):\n",
    "    if row[\"Source Address\"].startswith('40.'):\n",
    "        return row[\"Destination Address\"]\n",
    "    else:\n",
    "        return row[\"Source Address\"]\n",
    "\n",
    "#break the data into sections and apply a function to the data\n",
    "def parallelize(data, func):\n",
    "    data_split = np.array_split(data, partitions)\n",
    "    pool = Pool(cores)\n",
    "    data = pandas.concat(pool.map(func, data_split))\n",
    "    pool.close()\n",
    "    pool.join()\n",
    "    return data\n",
    "\n",
    "#application of the function on the data section using a normal dataframe apply\n",
    "def run_on_subset(func, data_subset):\n",
    "    return data_subset.apply(func, axis=1)\n",
    "\n",
    "#pull all of it together\n",
    "def parallelize_on_rows(data, func):\n",
    "    return parallelize(data, partial(run_on_subset, func))"
   ]
  },
  {
   "cell_type": "markdown",
   "metadata": {
    "slideshow": {
     "slide_type": "notes"
    }
   },
   "source": [
    "put together all the function to parallelize<br>\n",
    "basically - break dataframe into pieces <br>\n",
    "apply function into each portion <br>\n",
    "put it back together."
   ]
  },
  {
   "cell_type": "code",
   "execution_count": 7,
   "metadata": {
    "slideshow": {
     "slide_type": "slide"
    }
   },
   "outputs": [
    {
     "name": "stdout",
     "output_type": "stream",
     "text": [
      "0.901824951171875\n"
     ]
    }
   ],
   "source": [
    "import time\n",
    "#get the start time\n",
    "start = time.time()\n",
    "\n",
    "#execute it\n",
    "df_ids2['outside_addy'] = parallelize_on_rows(df_ids2, lookup_addy2)\n",
    "\n",
    "#get rid of all the rfc1918\n",
    "df_ids2 = df_ids2[-((df_ids2['outside_addy'].str.startswith('10.')) |\n",
    "                  (df_ids2['outside_addy'].str.startswith('172.16.')) |\n",
    "                  (df_ids2['outside_addy'].str.startswith('192.168.')))]\n",
    "\n",
    "#record the end time\n",
    "end = time.time()\n",
    "\n",
    "#find the difference\n",
    "print(end - start)\n"
   ]
  },
  {
   "cell_type": "markdown",
   "metadata": {
    "slideshow": {
     "slide_type": "notes"
    }
   },
   "source": [
    "slightly different time collection <br>\n",
    "parallize the execution by spliting the dataframe into chunks by the number of processors <br>\n",
    "Summing up, apply works on a row / column basis of a DataFrame <br>\n",
    "applymap works element-wise on a DataFrame <br>\n",
    "map works element-wise on a Series. <br>\n",
    "way faster - sorta ugly code<br>\n"
   ]
  },
  {
   "cell_type": "code",
   "execution_count": 8,
   "metadata": {
    "slideshow": {
     "slide_type": "slide"
    }
   },
   "outputs": [
    {
     "name": "stdout",
     "output_type": "stream",
     "text": [
      "CPU times: user 1.34 s, sys: 579 ms, total: 1.91 s\n",
      "Wall time: 18.7 s\n"
     ]
    }
   ],
   "source": [
    "%%time \n",
    "#magic function\n",
    "\n",
    "#dask dataframes\n",
    "import dask.dataframe as dd\n",
    "\n",
    "#create a client to perform the work and look at the progress - spawns a web server if in its own cell\n",
    "from dask.distributed import Client, progress\n",
    "client = Client(threads_per_worker=4, n_workers=4)\n",
    "client\n",
    "\n",
    "#create a dataframe from one of the copies - store in memory as it is small \n",
    "dd_ids3 = dd.from_pandas(df_ids3, npartitions=4).persist()\n",
    "\n",
    "#use a dask apply dataframe equiv and gather the lazy results\n",
    "dd_ids3['outside_addy'] = dd_ids3.apply(lookup_addy2, axis=1).compute()\n",
    "\n",
    "#get rid of all the rfc1918\n",
    "dd_ids3 = dd_ids3[-((dd_ids3['outside_addy'].str.startswith('10.')) |\n",
    "                  (dd_ids3['outside_addy'].str.startswith('172.16.')) |\n",
    "                  (dd_ids3['outside_addy'].str.startswith('192.168.')))]\n",
    "\n",
    "#shutdown the client\n",
    "client.close()"
   ]
  },
  {
   "cell_type": "markdown",
   "metadata": {
    "slideshow": {
     "slide_type": "notes"
    }
   },
   "source": [
    "dask library by anaconda <br>\n",
    "capable of throwing large dataframes on drives and clusters <br>\n",
    "also happy to parallize <br>\n",
    "simplier code style <br>"
   ]
  },
  {
   "cell_type": "code",
   "execution_count": 9,
   "metadata": {
    "slideshow": {
     "slide_type": "slide"
    }
   },
   "outputs": [
    {
     "data": {
      "text/plain": [
       "0    True\n",
       "Name: outside_addy, dtype: bool"
      ]
     },
     "execution_count": 9,
     "metadata": {},
     "output_type": "execute_result"
    }
   ],
   "source": [
    "df_ids[df_ids['End Time'] == '03-Jan-2019 06:40:23']['outside_addy'] == \\\n",
    "df_ids2[df_ids2['End Time'] == '03-Jan-2019 06:40:23']['outside_addy']"
   ]
  },
  {
   "cell_type": "code",
   "execution_count": 10,
   "metadata": {
    "slideshow": {
     "slide_type": "slide"
    }
   },
   "outputs": [],
   "source": [
    "#create a function to find the lat/long of the addy based on maxmind reader\n",
    "def lookup_location(outside_addy):\n",
    "    try:\n",
    "        response = reader.city(outside_addy)\n",
    "        return round(response.location.latitude,3), round(response.location.longitude,3)\n",
    "    except:\n",
    "        #otherwise return a location off the coast of africa\n",
    "        return 0,0\n",
    "\n",
    "#function to get a dual output into different columns in a dataframe\n",
    "#https://stackoverflow.com/questions/23690284/pandas-apply-function-that-returns-multiple-values-to-rows-in-pandas-dataframe\n",
    "def apply_and_concat(dataframe, field, func, column_names):\n",
    "    return pandas.concat((\n",
    "                         dataframe,\n",
    "                         dataframe[field].apply(\n",
    "                         lambda cell: pandas.Series(func(cell), index=column_names))), axis=1)\n",
    "\n",
    "df_ids = apply_and_concat(df_ids, 'outside_addy', lookup_location, ['latitude', 'longitude'])"
   ]
  },
  {
   "cell_type": "markdown",
   "metadata": {
    "slideshow": {
     "slide_type": "notes"
    }
   },
   "source": [
    "way slower <br>\n",
    "looks up the longitude and latitude based on the geoip reader<br>\n",
    "apply it to the dataframe and then concats the dataframe and the 2 new columns <br>"
   ]
  },
  {
   "cell_type": "code",
   "execution_count": 11,
   "metadata": {
    "slideshow": {
     "slide_type": "slide"
    }
   },
   "outputs": [],
   "source": [
    "#pickle library\n",
    "import pickle\n",
    "\n",
    "#open a pickled dictionary with my api keys - put it into a object\n",
    "with open('api.pkl', 'rb') as f:\n",
    "    api = pickle.load(f)\n",
    "\n",
    "#a couple useful functions for dealing with pickle files\n",
    "def save_obj(obj, name):\n",
    "    with open(pickle_dir + name + '.pkl', 'wb') as f:\n",
    "        pickle.dump(obj, f, pickle.HIGHEST_PROTOCOL)\n",
    "\n",
    "def load_obj(name):\n",
    "    with open(pickle_dir + str(name) + '.pkl', 'rb') as f:\n",
    "        return pickle.load(f)"
   ]
  },
  {
   "cell_type": "markdown",
   "metadata": {
    "slideshow": {
     "slide_type": "notes"
    }
   },
   "source": [
    "pickles store things - persistence <br>\n",
    "for instance - if you want to store a bunch of vt hashes<br>\n",
    "this is my api key - and I don't want you to know it. get your own key<br>"
   ]
  },
  {
   "cell_type": "code",
   "execution_count": 12,
   "metadata": {
    "slideshow": {
     "slide_type": "slide"
    }
   },
   "outputs": [],
   "source": [
    "#https://jupyter-gmaps.readthedocs.io/en/latest/tutorial.html\n",
    "import gmaps\n",
    "import gmaps.datasets\n",
    "\n",
    "gmaps.configure(api['googleMaps'])"
   ]
  },
  {
   "cell_type": "markdown",
   "metadata": {
    "slideshow": {
     "slide_type": "notes"
    }
   },
   "source": [
    "gmaps Jupyter plugin for visualization <br>\n",
    "same pip type install <br>\n",
    "also accomplished with conda <br>\n",
    "configure it with the api key from the pickled object <br>"
   ]
  },
  {
   "cell_type": "code",
   "execution_count": 13,
   "metadata": {
    "slideshow": {
     "slide_type": "slide"
    }
   },
   "outputs": [
    {
     "data": {
      "text/html": [
       "<div>\n",
       "<style scoped>\n",
       "    .dataframe tbody tr th:only-of-type {\n",
       "        vertical-align: middle;\n",
       "    }\n",
       "\n",
       "    .dataframe tbody tr th {\n",
       "        vertical-align: top;\n",
       "    }\n",
       "\n",
       "    .dataframe thead th {\n",
       "        text-align: right;\n",
       "    }\n",
       "</style>\n",
       "<table border=\"1\" class=\"dataframe\">\n",
       "  <thead>\n",
       "    <tr style=\"text-align: right;\">\n",
       "      <th></th>\n",
       "      <th>latitude</th>\n",
       "      <th>longitude</th>\n",
       "      <th>count</th>\n",
       "    </tr>\n",
       "  </thead>\n",
       "  <tbody>\n",
       "    <tr>\n",
       "      <th>0</th>\n",
       "      <td>-43.533</td>\n",
       "      <td>172.633</td>\n",
       "      <td>6</td>\n",
       "    </tr>\n",
       "    <tr>\n",
       "      <th>1</th>\n",
       "      <td>-41.287</td>\n",
       "      <td>174.776</td>\n",
       "      <td>2</td>\n",
       "    </tr>\n",
       "    <tr>\n",
       "      <th>2</th>\n",
       "      <td>-39.638</td>\n",
       "      <td>176.849</td>\n",
       "      <td>2</td>\n",
       "    </tr>\n",
       "    <tr>\n",
       "      <th>3</th>\n",
       "      <td>-38.101</td>\n",
       "      <td>144.354</td>\n",
       "      <td>9</td>\n",
       "    </tr>\n",
       "    <tr>\n",
       "      <th>4</th>\n",
       "      <td>-38.000</td>\n",
       "      <td>-57.550</td>\n",
       "      <td>5</td>\n",
       "    </tr>\n",
       "  </tbody>\n",
       "</table>\n",
       "</div>"
      ],
      "text/plain": [
       "   latitude  longitude  count\n",
       "0   -43.533    172.633      6\n",
       "1   -41.287    174.776      2\n",
       "2   -39.638    176.849      2\n",
       "3   -38.101    144.354      9\n",
       "4   -38.000    -57.550      5"
      ]
     },
     "execution_count": 13,
     "metadata": {},
     "output_type": "execute_result"
    }
   ],
   "source": [
    "#pandas chaining\n",
    "#1 - group by lat/long\n",
    "#2 - get the size of a column to consolidate groupby object\n",
    "#3 - take it from a indexed series to a dataframe\n",
    "#4 - reset the index so that groupby is flattened and can be referenced\n",
    "#5 - rename the size column (0) to 'count'\n",
    "df_plot = df_ids.groupby(['latitude', 'longitude']).size().to_frame().reset_index().rename(columns={0:'count'})\n",
    "\n",
    "#show the first couple lines of the dataframe\n",
    "df_plot.head(5)"
   ]
  },
  {
   "cell_type": "markdown",
   "metadata": {
    "slideshow": {
     "slide_type": "notes"
    }
   },
   "source": [
    "get the ids dataframe and grab by unique long and lat<br>\n",
    "take the resulting series to a frame.<br>\n",
    "reset the index<br>\n",
    "rename the counting column to count<br>\n",
    "display the first five<br>"
   ]
  },
  {
   "cell_type": "code",
   "execution_count": 14,
   "metadata": {
    "slideshow": {
     "slide_type": "slide"
    }
   },
   "outputs": [
    {
     "data": {
      "application/vnd.jupyter.widget-view+json": {
       "model_id": "c6838a647d154d42aa3b2d54fa1f5406",
       "version_major": 2,
       "version_minor": 0
      },
      "text/plain": [
       "Figure(layout=FigureLayout(height='420px'))"
      ]
     },
     "metadata": {},
     "output_type": "display_data"
    }
   ],
   "source": [
    "#call google api\n",
    "fig = gmaps.figure(center=(0,0),zoom_level=1.75, map_type='HYBRID')\n",
    "\n",
    "#put a heatmap on it\n",
    "heatmap = gmaps.heatmap_layer(df_plot[['latitude', 'longitude']]) #, weights=df_plot['count'][0:100],)\n",
    "\n",
    "#overlay\n",
    "fig.add_layer(heatmap)\n",
    "\n",
    "#display\n",
    "fig"
   ]
  },
  {
   "cell_type": "markdown",
   "metadata": {
    "slideshow": {
     "slide_type": "notes"
    }
   },
   "source": [
    "plot the dataframe on the map plugin <br>\n",
    "why weights aren't included - <br>\n",
    "why the map isn't in the slide  - it's a plugin hard for reveal to display<br>\n",
    "it jupyter scrolling and zooming are enabled <br>"
   ]
  },
  {
   "cell_type": "markdown",
   "metadata": {
    "slideshow": {
     "slide_type": "slide"
    }
   },
   "source": [
    "<IMG src=\"./images/map.png\">"
   ]
  },
  {
   "cell_type": "markdown",
   "metadata": {
    "slideshow": {
     "slide_type": "notes"
    }
   },
   "source": [
    "google map api as image <br>\n",
    "dot mostly located where ppl live and internet in concentration.<br>\n",
    "south america is suspicious<br>"
   ]
  },
  {
   "cell_type": "markdown",
   "metadata": {
    "slideshow": {
     "slide_type": "slide"
    }
   },
   "source": [
    "<center><IMG src=\"images/war_game.gif\" width=\"1024\" height=\"1024\"></center>"
   ]
  },
  {
   "cell_type": "markdown",
   "metadata": {
    "slideshow": {
     "slide_type": "notes"
    }
   },
   "source": [
    "pew - pew<br>\n",
    "winner = you! <br>"
   ]
  },
  {
   "cell_type": "markdown",
   "metadata": {
    "slideshow": {
     "slide_type": "slide"
    }
   },
   "source": [
    "<IMG src=\"./images/Notebook/Slide8.jpeg\">"
   ]
  },
  {
   "cell_type": "markdown",
   "metadata": {
    "slideshow": {
     "slide_type": "notes"
    }
   },
   "source": [
    "second one - explaination next"
   ]
  },
  {
   "cell_type": "markdown",
   "metadata": {
    "slideshow": {
     "slide_type": "slide"
    }
   },
   "source": [
    "<IMG src=\"./images/Notebook/Slide9.jpeg\">"
   ]
  },
  {
   "cell_type": "markdown",
   "metadata": {
    "slideshow": {
     "slide_type": "notes"
    }
   },
   "source": [
    "AV events are usually handled<br>\n",
    "analysis on past events?<br>\n",
    "sometimes dropper only, sometimes payload<br>\n",
    "what happens if it keeps happening<br>\n",
    "over minutes, over hours<br>\n",
    "same signature/different<br>\n",
    "define the normal number of detections<br>"
   ]
  },
  {
   "cell_type": "markdown",
   "metadata": {
    "slideshow": {
     "slide_type": "slide"
    }
   },
   "source": [
    "<IMG src=\"./images/Notebook/Slide10.jpeg\">"
   ]
  },
  {
   "cell_type": "markdown",
   "metadata": {
    "slideshow": {
     "slide_type": "notes"
    }
   },
   "source": [
    "one, and only one, solution <br>\n",
    "Figuring out if something exeeds the normal <br>\n",
    "modeling for the next day <br>"
   ]
  },
  {
   "cell_type": "code",
   "execution_count": 15,
   "metadata": {
    "slideshow": {
     "slide_type": "slide"
    }
   },
   "outputs": [],
   "source": [
    "import os\n",
    "import csv\n",
    "import pandas\n",
    "import matplotlib.pyplot as plt\n",
    "\n",
    "directory = './av/'\n",
    "events = []\n",
    "\n",
    "for file in os.listdir(directory):\n",
    "    if file.endswith('.csv') and file.startswith('av_daily'):\n",
    "        date = file.split('_')[2].split('.')[0].split('-')[0:3]\n",
    "        date = \"-\".join(date)\n",
    "        with open(directory+'/'+file) as csvfile:\n",
    "            devicescsv = csv.reader(csvfile)\n",
    "            for row in devicescsv:\n",
    "                if len(row[0]) ==32:\n",
    "                    row.append(date)\n",
    "                    events.append(row)"
   ]
  },
  {
   "cell_type": "markdown",
   "metadata": {
    "slideshow": {
     "slide_type": "notes"
    }
   },
   "source": [
    "list the directory rather than walk it<br>\n",
    "steal the date from the file name<br>\n",
    "read the file and add rows that start with a hash to the list events<br>"
   ]
  },
  {
   "cell_type": "code",
   "execution_count": 16,
   "metadata": {
    "slideshow": {
     "slide_type": "slide"
    }
   },
   "outputs": [],
   "source": [
    "#etl\n",
    "labels = ['col1','col2','col3','col4','col5','col6','col7','col8','col9','col10']\n",
    "df_avReports = pandas.DataFrame.from_records(events, columns=labels)\n",
    "\n",
    "#one vendor\n",
    "df_7u189lsy = df_avReports[df_avReports.col2 == '7u189lsy'][['col1','col4','col5','col8']]\n",
    "df_7u189lsy = df_7u189lsy.rename(index=str, columns={'col1':'md5','col4':'src_host','col5':'av_sig','col8':'date'})\n",
    "df_7u189lsy['date'] = pandas.to_datetime(df_7u189lsy['date'])\n",
    "\n",
    "#another vendor\n",
    "df_opmhmvjb = df_avReports[df_avReports.col2 == 'opmhmvjb'][['col1','col5','col9','col10']]\n",
    "df_opmhmvjb = df_opmhmvjb.rename(index=str, columns={'col1':'md5','col5':'src_host','col9':'av_sig','col10':'date'})\n",
    "df_opmhmvjb['date'] = pandas.to_datetime(df_opmhmvjb['date'])\n",
    "\n",
    "#more vendors\n",
    "df_ncutcy1q = df_avReports[df_avReports.col2 == 'ncutcy1q'][['col1','col5','col3','col7']]\n",
    "df_ncutcy1q.col1 = df_ncutcy1q.col1.map(lambda x: x.lower())\n",
    "df_ncutcy1q = df_ncutcy1q.rename(index=str, columns={'col1':'md5','col5':'src_host','col3':'av_sig','col7':'date'})\n",
    "df_ncutcy1q['date'] = pandas.to_datetime(df_ncutcy1q['date'])"
   ]
  },
  {
   "cell_type": "markdown",
   "metadata": {
    "slideshow": {
     "slide_type": "notes"
    }
   },
   "source": [
    "anonymized the vendors - sorta <br>\n",
    "put the labels on the columns for each<br>\n",
    "custom little things - lower the case<br>"
   ]
  },
  {
   "cell_type": "code",
   "execution_count": 17,
   "metadata": {
    "slideshow": {
     "slide_type": "slide"
    }
   },
   "outputs": [
    {
     "data": {
      "text/html": [
       "<div>\n",
       "<style scoped>\n",
       "    .dataframe tbody tr th:only-of-type {\n",
       "        vertical-align: middle;\n",
       "    }\n",
       "\n",
       "    .dataframe tbody tr th {\n",
       "        vertical-align: top;\n",
       "    }\n",
       "\n",
       "    .dataframe thead th {\n",
       "        text-align: right;\n",
       "    }\n",
       "</style>\n",
       "<table border=\"1\" class=\"dataframe\">\n",
       "  <thead>\n",
       "    <tr style=\"text-align: right;\">\n",
       "      <th></th>\n",
       "      <th>md5</th>\n",
       "      <th>av_sig</th>\n",
       "      <th>date</th>\n",
       "    </tr>\n",
       "  </thead>\n",
       "  <tbody>\n",
       "    <tr>\n",
       "      <th>0</th>\n",
       "      <td>ae5cf1e0939132faa64c9b3c8df78de3</td>\n",
       "      <td>6c0504e1d6ab11d3b89c93f01463f485</td>\n",
       "      <td>2018-06-14</td>\n",
       "    </tr>\n",
       "    <tr>\n",
       "      <th>1</th>\n",
       "      <td>ae5cf1e0939132faa64c9b3c8df78de3</td>\n",
       "      <td>6c0504e1d6ab11d3b89c93f01463f485</td>\n",
       "      <td>2018-06-14</td>\n",
       "    </tr>\n",
       "    <tr>\n",
       "      <th>2</th>\n",
       "      <td>d34f58d7ae3e089409767d348cec3490</td>\n",
       "      <td>622206ced0442ae33435ba2cb9cbccb7</td>\n",
       "      <td>2018-06-14</td>\n",
       "    </tr>\n",
       "    <tr>\n",
       "      <th>3</th>\n",
       "      <td>68fd8d8a57adefc6a6276309a88d9daf</td>\n",
       "      <td>dd8fcaac2746c295c74a02322128226c</td>\n",
       "      <td>2018-06-14</td>\n",
       "    </tr>\n",
       "    <tr>\n",
       "      <th>4</th>\n",
       "      <td>d78bde0fe37c1c696c31b256516ecccf</td>\n",
       "      <td>ec38fbb7f36a9454a66b33353c1a46a4</td>\n",
       "      <td>2018-06-14</td>\n",
       "    </tr>\n",
       "  </tbody>\n",
       "</table>\n",
       "</div>"
      ],
      "text/plain": [
       "                                md5                            av_sig  \\\n",
       "0  ae5cf1e0939132faa64c9b3c8df78de3  6c0504e1d6ab11d3b89c93f01463f485   \n",
       "1  ae5cf1e0939132faa64c9b3c8df78de3  6c0504e1d6ab11d3b89c93f01463f485   \n",
       "2  d34f58d7ae3e089409767d348cec3490  622206ced0442ae33435ba2cb9cbccb7   \n",
       "3  68fd8d8a57adefc6a6276309a88d9daf  dd8fcaac2746c295c74a02322128226c   \n",
       "4  d78bde0fe37c1c696c31b256516ecccf  ec38fbb7f36a9454a66b33353c1a46a4   \n",
       "\n",
       "        date  \n",
       "0 2018-06-14  \n",
       "1 2018-06-14  \n",
       "2 2018-06-14  \n",
       "3 2018-06-14  \n",
       "4 2018-06-14  "
      ]
     },
     "execution_count": 17,
     "metadata": {},
     "output_type": "execute_result"
    }
   ],
   "source": [
    "#combo\n",
    "dfs = [df_7u189lsy, df_opmhmvjb, df_ncutcy1q]\n",
    "df_avcombo = pandas.concat(dfs)\n",
    "\n",
    "#hide stuff - sorta\n",
    "#import codecs\n",
    "#df_avcombo.av_sig = df_avcombo.av_sig.apply(lambda x: codecs.encode(x, 'rot_13'))\n",
    "import hashlib, uuid # even better\n",
    "df_avcombo.av_sig = df_avcombo.av_sig.apply(lambda x: hashlib.md5(x.encode('utf-8') + api['googleMaps'].encode('utf-8')).hexdigest())\n",
    "\n",
    "#drop unneeded\n",
    "df_avcombo = df_avcombo.drop(columns=['src_host'])\n",
    "\n",
    "#display\n",
    "df_avcombo.head(5)"
   ]
  },
  {
   "cell_type": "markdown",
   "metadata": {
    "slideshow": {
     "slide_type": "notes"
    }
   },
   "source": [
    "combine the different vendors<br>\n",
    "hide the signature names rot13 <br>\n",
    "drop columns that aren't needed <br>"
   ]
  },
  {
   "cell_type": "code",
   "execution_count": 18,
   "metadata": {
    "slideshow": {
     "slide_type": "slide"
    }
   },
   "outputs": [],
   "source": [
    "#grab a count of by date turn the timeseries into floats\n",
    "y = df_avcombo.groupby('date').count()['md5'].map(lambda x: float(x))\n",
    "\n",
    "#convert to df and make day bins\n",
    "df_y = pandas.DataFrame(y)\n",
    "df_y = df_y.asfreq('D')\n",
    "\n",
    "#give a start calc and end calc for the model\n",
    "start = len(df_y) -10\n",
    "end = len(df_y) + 15"
   ]
  },
  {
   "cell_type": "markdown",
   "metadata": {
    "slideshow": {
     "slide_type": "notes"
    }
   },
   "source": [
    "count up the number of md5 entries per day and turn that string number into a float <br>\n",
    "change the series into a dataframe<br>\n",
    "set the frequency to Days <br>\n",
    "make a model with 10 days previous and 5 days into the future <br>\n",
    "see how well it did in the past and if it will work for the future <br>\n"
   ]
  },
  {
   "cell_type": "code",
   "execution_count": 19,
   "metadata": {
    "slideshow": {
     "slide_type": "slide"
    }
   },
   "outputs": [],
   "source": [
    "import statsmodels.api as sm\n",
    "\n",
    "#all these numbers were tested using other things\n",
    "mod = sm.tsa.statespace.SARIMAX(df_y,\n",
    "                                order=(0, 1, 1),\n",
    "                                seasonal_order=(1, 1, 1, 7),\n",
    "                                enforce_stationarity=False,\n",
    "                                enforce_invertibility=False)\n",
    "#fit the model up\n",
    "results = mod.fit()"
   ]
  },
  {
   "cell_type": "markdown",
   "metadata": {
    "slideshow": {
     "slide_type": "notes"
    }
   },
   "source": [
    "find the values for the model - order (p,d,q) seasonality <br>\n",
    "model = mod <br>\n",
    "results are the fit to the model as a SARIMAX object "
   ]
  },
  {
   "cell_type": "code",
   "execution_count": 20,
   "metadata": {
    "slideshow": {
     "slide_type": "slide"
    }
   },
   "outputs": [],
   "source": [
    "#predict based on the start and end dates\n",
    "pred_results = results.predict(start=start, end=end, dynamic=True)"
   ]
  },
  {
   "cell_type": "code",
   "execution_count": 21,
   "metadata": {},
   "outputs": [
    {
     "data": {
      "text/plain": [
       "<matplotlib.legend.Legend at 0x3261c9f60>"
      ]
     },
     "execution_count": 21,
     "metadata": {},
     "output_type": "execute_result"
    },
    {
     "data": {
      "image/png": "[encoded data removed]",
      "text/plain": [
       "<Figure size 1080x432 with 1 Axes>"
      ]
     },
     "metadata": {
      "needs_background": "light"
     },
     "output_type": "display_data"
    }
   ],
   "source": [
    "#plot with matplotlib\n",
    "ax = df_y.plot(label='observed', figsize=(15, 6))\n",
    "pred_results.plot(ax=ax, label='forecast')\n",
    "plt.xlabel('Date', fontsize=18)\n",
    "plt.ylabel('Number Observed', fontsize=18)\n",
    "plt.legend()"
   ]
  },
  {
   "cell_type": "markdown",
   "metadata": {
    "slideshow": {
     "slide_type": "notes"
    }
   },
   "source": [
    "predict results in a time series <br>\n",
    "plot both the lines on matplotlib<br>\n",
    "point out there is seriously failed <br>\n",
    "show it requires a transform to prevent from going negative<br>\n"
   ]
  },
  {
   "cell_type": "code",
   "execution_count": 22,
   "metadata": {
    "slideshow": {
     "slide_type": "slide"
    }
   },
   "outputs": [
    {
     "data": {
      "text/html": [
       "\n",
       "    <div class=\"bk-root\">\n",
       "        <a href=\"https://bokeh.pydata.org\" target=\"_blank\" class=\"bk-logo bk-logo-small bk-logo-notebook\"></a>\n",
       "        <span id=\"1001\">Loading BokehJS ...</span>\n",
       "    </div>"
      ]
     },
     "metadata": {},
     "output_type": "display_data"
    },
    {
     "data": {
      "application/javascript": [
       "\n",
       "(function(root) {\n",
       "  function now() {\n",
       "    return new Date();\n",
       "  }\n",
       "\n",
       "  var force = true;\n",
       "\n",
       "  if (typeof (root._bokeh_onload_callbacks) === \"undefined\" || force === true) {\n",
       "    root._bokeh_onload_callbacks = [];\n",
       "    root._bokeh_is_loading = undefined;\n",
       "  }\n",
       "\n",
       "  var JS_MIME_TYPE = 'application/javascript';\n",
       "  var HTML_MIME_TYPE = 'text/html';\n",
       "  var EXEC_MIME_TYPE = 'application/vnd.bokehjs_exec.v0+json';\n",
       "  var CLASS_NAME = 'output_bokeh rendered_html';\n",
       "\n",
       "  /**\n",
       "   * Render data to the DOM node\n",
       "   */\n",
       "  function render(props, node) {\n",
       "    var script = document.createElement(\"script\");\n",
       "    node.appendChild(script);\n",
       "  }\n",
       "\n",
       "  /**\n",
       "   * Handle when an output is cleared or removed\n",
       "   */\n",
       "  function handleClearOutput(event, handle) {\n",
       "    var cell = handle.cell;\n",
       "\n",
       "    var id = cell.output_area._bokeh_element_id;\n",
       "    var server_id = cell.output_area._bokeh_server_id;\n",
       "    // Clean up Bokeh references\n",
       "    if (id != null && id in Bokeh.index) {\n",
       "      Bokeh.index[id].model.document.clear();\n",
       "      delete Bokeh.index[id];\n",
       "    }\n",
       "\n",
       "    if (server_id !== undefined) {\n",
       "      // Clean up Bokeh references\n",
       "      var cmd = \"from bokeh.io.state import curstate; print(curstate().uuid_to_server['\" + server_id + \"'].get_sessions()[0].document.roots[0]._id)\";\n",
       "      cell.notebook.kernel.execute(cmd, {\n",
       "        iopub: {\n",
       "          output: function(msg) {\n",
       "            var id = msg.content.text.trim();\n",
       "            if (id in Bokeh.index) {\n",
       "              Bokeh.index[id].model.document.clear();\n",
       "              delete Bokeh.index[id];\n",
       "            }\n",
       "          }\n",
       "        }\n",
       "      });\n",
       "      // Destroy server and session\n",
       "      var cmd = \"import bokeh.io.notebook as ion; ion.destroy_server('\" + server_id + \"')\";\n",
       "      cell.notebook.kernel.execute(cmd);\n",
       "    }\n",
       "  }\n",
       "\n",
       "  /**\n",
       "   * Handle when a new output is added\n",
       "   */\n",
       "  function handleAddOutput(event, handle) {\n",
       "    var output_area = handle.output_area;\n",
       "    var output = handle.output;\n",
       "\n",
       "    // limit handleAddOutput to display_data with EXEC_MIME_TYPE content only\n",
       "    if ((output.output_type != \"display_data\") || (!output.data.hasOwnProperty(EXEC_MIME_TYPE))) {\n",
       "      return\n",
       "    }\n",
       "\n",
       "    var toinsert = output_area.element.find(\".\" + CLASS_NAME.split(' ')[0]);\n",
       "\n",
       "    if (output.metadata[EXEC_MIME_TYPE][\"id\"] !== undefined) {\n",
       "      toinsert[toinsert.length - 1].firstChild.textContent = output.data[JS_MIME_TYPE];\n",
       "      // store reference to embed id on output_area\n",
       "      output_area._bokeh_element_id = output.metadata[EXEC_MIME_TYPE][\"id\"];\n",
       "    }\n",
       "    if (output.metadata[EXEC_MIME_TYPE][\"server_id\"] !== undefined) {\n",
       "      var bk_div = document.createElement(\"div\");\n",
       "      bk_div.innerHTML = output.data[HTML_MIME_TYPE];\n",
       "      var script_attrs = bk_div.children[0].attributes;\n",
       "      for (var i = 0; i < script_attrs.length; i++) {\n",
       "        toinsert[toinsert.length - 1].firstChild.setAttribute(script_attrs[i].name, script_attrs[i].value);\n",
       "      }\n",
       "      // store reference to server id on output_area\n",
       "      output_area._bokeh_server_id = output.metadata[EXEC_MIME_TYPE][\"server_id\"];\n",
       "    }\n",
       "  }\n",
       "\n",
       "  function register_renderer(events, OutputArea) {\n",
       "\n",
       "    function append_mime(data, metadata, element) {\n",
       "      // create a DOM node to render to\n",
       "      var toinsert = this.create_output_subarea(\n",
       "        metadata,\n",
       "        CLASS_NAME,\n",
       "        EXEC_MIME_TYPE\n",
       "      );\n",
       "      this.keyboard_manager.register_events(toinsert);\n",
       "      // Render to node\n",
       "      var props = {data: data, metadata: metadata[EXEC_MIME_TYPE]};\n",
       "      render(props, toinsert[toinsert.length - 1]);\n",
       "      element.append(toinsert);\n",
       "      return toinsert\n",
       "    }\n",
       "\n",
       "    /* Handle when an output is cleared or removed */\n",
       "    events.on('clear_output.CodeCell', handleClearOutput);\n",
       "    events.on('delete.Cell', handleClearOutput);\n",
       "\n",
       "    /* Handle when a new output is added */\n",
       "    events.on('output_added.OutputArea', handleAddOutput);\n",
       "\n",
       "    /**\n",
       "     * Register the mime type and append_mime function with output_area\n",
       "     */\n",
       "    OutputArea.prototype.register_mime_type(EXEC_MIME_TYPE, append_mime, {\n",
       "      /* Is output safe? */\n",
       "      safe: true,\n",
       "      /* Index of renderer in `output_area.display_order` */\n",
       "      index: 0\n",
       "    });\n",
       "  }\n",
       "\n",
       "  // register the mime type if in Jupyter Notebook environment and previously unregistered\n",
       "  if (root.Jupyter !== undefined) {\n",
       "    var events = require('base/js/events');\n",
       "    var OutputArea = require('notebook/js/outputarea').OutputArea;\n",
       "\n",
       "    if (OutputArea.prototype.mime_types().indexOf(EXEC_MIME_TYPE) == -1) {\n",
       "      register_renderer(events, OutputArea);\n",
       "    }\n",
       "  }\n",
       "\n",
       "  \n",
       "  if (typeof (root._bokeh_timeout) === \"undefined\" || force === true) {\n",
       "    root._bokeh_timeout = Date.now() + 5000;\n",
       "    root._bokeh_failed_load = false;\n",
       "  }\n",
       "\n",
       "  var NB_LOAD_WARNING = {'data': {'text/html':\n",
       "     \"<div style='background-color: #fdd'>\\n\"+\n",
       "     \"<p>\\n\"+\n",
       "     \"BokehJS does not appear to have successfully loaded. If loading BokehJS from CDN, this \\n\"+\n",
       "     \"may be due to a slow or bad network connection. Possible fixes:\\n\"+\n",
       "     \"</p>\\n\"+\n",
       "     \"<ul>\\n\"+\n",
       "     \"<li>re-rerun `output_notebook()` to attempt to load from CDN again, or</li>\\n\"+\n",
       "     \"<li>use INLINE resources instead, as so:</li>\\n\"+\n",
       "     \"</ul>\\n\"+\n",
       "     \"<code>\\n\"+\n",
       "     \"from bokeh.resources import INLINE\\n\"+\n",
       "     \"output_notebook(resources=INLINE)\\n\"+\n",
       "     \"</code>\\n\"+\n",
       "     \"</div>\"}};\n",
       "\n",
       "  function display_loaded() {\n",
       "    var el = document.getElementById(\"1001\");\n",
       "    if (el != null) {\n",
       "      el.textContent = \"BokehJS is loading...\";\n",
       "    }\n",
       "    if (root.Bokeh !== undefined) {\n",
       "      if (el != null) {\n",
       "        el.textContent = \"BokehJS \" + root.Bokeh.version + \" successfully loaded.\";\n",
       "      }\n",
       "    } else if (Date.now() < root._bokeh_timeout) {\n",
       "      setTimeout(display_loaded, 100)\n",
       "    }\n",
       "  }\n",
       "\n",
       "\n",
       "  function run_callbacks() {\n",
       "    try {\n",
       "      root._bokeh_onload_callbacks.forEach(function(callback) { callback() });\n",
       "    }\n",
       "    finally {\n",
       "      delete root._bokeh_onload_callbacks\n",
       "    }\n",
       "    console.info(\"Bokeh: all callbacks have finished\");\n",
       "  }\n",
       "\n",
       "  function load_libs(js_urls, callback) {\n",
       "    root._bokeh_onload_callbacks.push(callback);\n",
       "    if (root._bokeh_is_loading > 0) {\n",
       "      console.log(\"Bokeh: BokehJS is being loaded, scheduling callback at\", now());\n",
       "      return null;\n",
       "    }\n",
       "    if (js_urls == null || js_urls.length === 0) {\n",
       "      run_callbacks();\n",
       "      return null;\n",
       "    }\n",
       "    console.log(\"Bokeh: BokehJS not loaded, scheduling load and callback at\", now());\n",
       "    root._bokeh_is_loading = js_urls.length;\n",
       "    for (var i = 0; i < js_urls.length; i++) {\n",
       "      var url = js_urls[i];\n",
       "      var s = document.createElement('script');\n",
       "      s.src = url;\n",
       "      s.async = false;\n",
       "      s.onreadystatechange = s.onload = function() {\n",
       "        root._bokeh_is_loading--;\n",
       "        if (root._bokeh_is_loading === 0) {\n",
       "          console.log(\"Bokeh: all BokehJS libraries loaded\");\n",
       "          run_callbacks()\n",
       "        }\n",
       "      };\n",
       "      s.onerror = function() {\n",
       "        console.warn(\"failed to load library \" + url);\n",
       "      };\n",
       "      console.log(\"Bokeh: injecting script tag for BokehJS library: \", url);\n",
       "      document.getElementsByTagName(\"head\")[0].appendChild(s);\n",
       "    }\n",
       "  };var element = document.getElementById(\"1001\");\n",
       "  if (element == null) {\n",
       "    console.log(\"Bokeh: ERROR: autoload.js configured with elementid '1001' but no matching script tag was found. \")\n",
       "    return false;\n",
       "  }\n",
       "\n",
       "  var js_urls = [\"https://cdn.pydata.org/bokeh/release/bokeh-1.0.4.min.js\", \"https://cdn.pydata.org/bokeh/release/bokeh-widgets-1.0.4.min.js\", \"https://cdn.pydata.org/bokeh/release/bokeh-tables-1.0.4.min.js\", \"https://cdn.pydata.org/bokeh/release/bokeh-gl-1.0.4.min.js\"];\n",
       "\n",
       "  var inline_js = [\n",
       "    function(Bokeh) {\n",
       "      Bokeh.set_log_level(\"info\");\n",
       "    },\n",
       "    \n",
       "    function(Bokeh) {\n",
       "      \n",
       "    },\n",
       "    function(Bokeh) {\n",
       "      console.log(\"Bokeh: injecting CSS: https://cdn.pydata.org/bokeh/release/bokeh-1.0.4.min.css\");\n",
       "      Bokeh.embed.inject_css(\"https://cdn.pydata.org/bokeh/release/bokeh-1.0.4.min.css\");\n",
       "      console.log(\"Bokeh: injecting CSS: https://cdn.pydata.org/bokeh/release/bokeh-widgets-1.0.4.min.css\");\n",
       "      Bokeh.embed.inject_css(\"https://cdn.pydata.org/bokeh/release/bokeh-widgets-1.0.4.min.css\");\n",
       "      console.log(\"Bokeh: injecting CSS: https://cdn.pydata.org/bokeh/release/bokeh-tables-1.0.4.min.css\");\n",
       "      Bokeh.embed.inject_css(\"https://cdn.pydata.org/bokeh/release/bokeh-tables-1.0.4.min.css\");\n",
       "    }\n",
       "  ];\n",
       "\n",
       "  function run_inline_js() {\n",
       "    \n",
       "    if ((root.Bokeh !== undefined) || (force === true)) {\n",
       "      for (var i = 0; i < inline_js.length; i++) {\n",
       "        inline_js[i].call(root, root.Bokeh);\n",
       "      }if (force === true) {\n",
       "        display_loaded();\n",
       "      }} else if (Date.now() < root._bokeh_timeout) {\n",
       "      setTimeout(run_inline_js, 100);\n",
       "    } else if (!root._bokeh_failed_load) {\n",
       "      console.log(\"Bokeh: BokehJS failed to load within specified timeout.\");\n",
       "      root._bokeh_failed_load = true;\n",
       "    } else if (force !== true) {\n",
       "      var cell = $(document.getElementById(\"1001\")).parents('.cell').data().cell;\n",
       "      cell.output_area.append_execute_result(NB_LOAD_WARNING)\n",
       "    }\n",
       "\n",
       "  }\n",
       "\n",
       "  if (root._bokeh_is_loading === 0) {\n",
       "    console.log(\"Bokeh: BokehJS loaded, going straight to plotting\");\n",
       "    run_inline_js();\n",
       "  } else {\n",
       "    load_libs(js_urls, function() {\n",
       "      console.log(\"Bokeh: BokehJS plotting callback run at\", now());\n",
       "      run_inline_js();\n",
       "    });\n",
       "  }\n",
       "}(window));"
      ],
      "application/vnd.bokehjs_load.v0+json": "\n(function(root) {\n  function now() {\n    return new Date();\n  }\n\n  var force = true;\n\n  if (typeof (root._bokeh_onload_callbacks) === \"undefined\" || force === true) {\n    root._bokeh_onload_callbacks = [];\n    root._bokeh_is_loading = undefined;\n  }\n\n  \n\n  \n  if (typeof (root._bokeh_timeout) === \"undefined\" || force === true) {\n    root._bokeh_timeout = Date.now() + 5000;\n    root._bokeh_failed_load = false;\n  }\n\n  var NB_LOAD_WARNING = {'data': {'text/html':\n     \"<div style='background-color: #fdd'>\\n\"+\n     \"<p>\\n\"+\n     \"BokehJS does not appear to have successfully loaded. If loading BokehJS from CDN, this \\n\"+\n     \"may be due to a slow or bad network connection. Possible fixes:\\n\"+\n     \"</p>\\n\"+\n     \"<ul>\\n\"+\n     \"<li>re-rerun `output_notebook()` to attempt to load from CDN again, or</li>\\n\"+\n     \"<li>use INLINE resources instead, as so:</li>\\n\"+\n     \"</ul>\\n\"+\n     \"<code>\\n\"+\n     \"from bokeh.resources import INLINE\\n\"+\n     \"output_notebook(resources=INLINE)\\n\"+\n     \"</code>\\n\"+\n     \"</div>\"}};\n\n  function display_loaded() {\n    var el = document.getElementById(\"1001\");\n    if (el != null) {\n      el.textContent = \"BokehJS is loading...\";\n    }\n    if (root.Bokeh !== undefined) {\n      if (el != null) {\n        el.textContent = \"BokehJS \" + root.Bokeh.version + \" successfully loaded.\";\n      }\n    } else if (Date.now() < root._bokeh_timeout) {\n      setTimeout(display_loaded, 100)\n    }\n  }\n\n\n  function run_callbacks() {\n    try {\n      root._bokeh_onload_callbacks.forEach(function(callback) { callback() });\n    }\n    finally {\n      delete root._bokeh_onload_callbacks\n    }\n    console.info(\"Bokeh: all callbacks have finished\");\n  }\n\n  function load_libs(js_urls, callback) {\n    root._bokeh_onload_callbacks.push(callback);\n    if (root._bokeh_is_loading > 0) {\n      console.log(\"Bokeh: BokehJS is being loaded, scheduling callback at\", now());\n      return null;\n    }\n    if (js_urls == null || js_urls.length === 0) {\n      run_callbacks();\n      return null;\n    }\n    console.log(\"Bokeh: BokehJS not loaded, scheduling load and callback at\", now());\n    root._bokeh_is_loading = js_urls.length;\n    for (var i = 0; i < js_urls.length; i++) {\n      var url = js_urls[i];\n      var s = document.createElement('script');\n      s.src = url;\n      s.async = false;\n      s.onreadystatechange = s.onload = function() {\n        root._bokeh_is_loading--;\n        if (root._bokeh_is_loading === 0) {\n          console.log(\"Bokeh: all BokehJS libraries loaded\");\n          run_callbacks()\n        }\n      };\n      s.onerror = function() {\n        console.warn(\"failed to load library \" + url);\n      };\n      console.log(\"Bokeh: injecting script tag for BokehJS library: \", url);\n      document.getElementsByTagName(\"head\")[0].appendChild(s);\n    }\n  };var element = document.getElementById(\"1001\");\n  if (element == null) {\n    console.log(\"Bokeh: ERROR: autoload.js configured with elementid '1001' but no matching script tag was found. \")\n    return false;\n  }\n\n  var js_urls = [\"https://cdn.pydata.org/bokeh/release/bokeh-1.0.4.min.js\", \"https://cdn.pydata.org/bokeh/release/bokeh-widgets-1.0.4.min.js\", \"https://cdn.pydata.org/bokeh/release/bokeh-tables-1.0.4.min.js\", \"https://cdn.pydata.org/bokeh/release/bokeh-gl-1.0.4.min.js\"];\n\n  var inline_js = [\n    function(Bokeh) {\n      Bokeh.set_log_level(\"info\");\n    },\n    \n    function(Bokeh) {\n      \n    },\n    function(Bokeh) {\n      console.log(\"Bokeh: injecting CSS: https://cdn.pydata.org/bokeh/release/bokeh-1.0.4.min.css\");\n      Bokeh.embed.inject_css(\"https://cdn.pydata.org/bokeh/release/bokeh-1.0.4.min.css\");\n      console.log(\"Bokeh: injecting CSS: https://cdn.pydata.org/bokeh/release/bokeh-widgets-1.0.4.min.css\");\n      Bokeh.embed.inject_css(\"https://cdn.pydata.org/bokeh/release/bokeh-widgets-1.0.4.min.css\");\n      console.log(\"Bokeh: injecting CSS: https://cdn.pydata.org/bokeh/release/bokeh-tables-1.0.4.min.css\");\n      Bokeh.embed.inject_css(\"https://cdn.pydata.org/bokeh/release/bokeh-tables-1.0.4.min.css\");\n    }\n  ];\n\n  function run_inline_js() {\n    \n    if ((root.Bokeh !== undefined) || (force === true)) {\n      for (var i = 0; i < inline_js.length; i++) {\n        inline_js[i].call(root, root.Bokeh);\n      }if (force === true) {\n        display_loaded();\n      }} else if (Date.now() < root._bokeh_timeout) {\n      setTimeout(run_inline_js, 100);\n    } else if (!root._bokeh_failed_load) {\n      console.log(\"Bokeh: BokehJS failed to load within specified timeout.\");\n      root._bokeh_failed_load = true;\n    } else if (force !== true) {\n      var cell = $(document.getElementById(\"1001\")).parents('.cell').data().cell;\n      cell.output_area.append_execute_result(NB_LOAD_WARNING)\n    }\n\n  }\n\n  if (root._bokeh_is_loading === 0) {\n    console.log(\"Bokeh: BokehJS loaded, going straight to plotting\");\n    run_inline_js();\n  } else {\n    load_libs(js_urls, function() {\n      console.log(\"Bokeh: BokehJS plotting callback run at\", now());\n      run_inline_js();\n    });\n  }\n}(window));"
     },
     "metadata": {},
     "output_type": "display_data"
    }
   ],
   "source": [
    "from bokeh.plotting import figure, show\n",
    "from bokeh.io import output_notebook\n",
    "from math import pi # not cake\n",
    "output_notebook()\n",
    "\n",
    "df_bokeh = df_y.reset_index()\n",
    "\n",
    "p = figure(x_axis_label ='Date', y_axis_label ='Count', x_axis_type='datetime', plot_width=900)\n",
    "\n",
    "p.line(df_bokeh['date'], df_bokeh['md5'])\n",
    "\n",
    "df_prediction = pred_results.to_frame().reset_index().rename(columns={'index':'date', 0:'md5'})\n",
    "\n",
    "p.line(df_prediction['date'], df_prediction['md5'], color = 'orange')\n",
    "\n",
    "p.xaxis.axis_label_text_font_size = '18pt'\n",
    "p.yaxis.axis_label_text_font_size = '18pt'\n",
    "p.xaxis.major_label_orientation = pi/4"
   ]
  },
  {
   "cell_type": "code",
   "execution_count": 23,
   "metadata": {
    "slideshow": {
     "slide_type": "slide"
    }
   },
   "outputs": [
    {
     "data": {
      "text/html": [
       "\n",
       "\n",
       "\n",
       "\n",
       "\n",
       "\n",
       "  <div class=\"bk-root\" id=\"793b58bf-01c5-4e9d-94df-11bac9a2f6f3\" data-root-id=\"1002\"></div>\n"
      ]
     },
     "metadata": {},
     "output_type": "display_data"
    },
    {
     "data": {
      "application/javascript": [
       "(function(root) {\n",
       "  function embed_document(root) {\n",
       "    \n",
       "  var docs_json = {\"860c88da-8c69-428b-8326-2c1e50801b05\":{\"roots\":{\"references\":[{\"attributes\":{\"below\":[{\"id\":\"1011\",\"type\":\"DatetimeAxis\"}],\"left\":[{\"id\":\"1016\",\"type\":\"LinearAxis\"}],\"plot_width\":900,\"renderers\":[{\"id\":\"1011\",\"type\":\"DatetimeAxis\"},{\"id\":\"1015\",\"type\":\"Grid\"},{\"id\":\"1016\",\"type\":\"LinearAxis\"},{\"id\":\"1020\",\"type\":\"Grid\"},{\"id\":\"1029\",\"type\":\"BoxAnnotation\"},{\"id\":\"1039\",\"type\":\"GlyphRenderer\"},{\"id\":\"1044\",\"type\":\"GlyphRenderer\"}],\"title\":{\"id\":\"1046\",\"type\":\"Title\"},\"toolbar\":{\"id\":\"1027\",\"type\":\"Toolbar\"},\"x_range\":{\"id\":\"1003\",\"type\":\"DataRange1d\"},\"x_scale\":{\"id\":\"1007\",\"type\":\"LinearScale\"},\"y_range\":{\"id\":\"1005\",\"type\":\"DataRange1d\"},\"y_scale\":{\"id\":\"1009\",\"type\":\"LinearScale\"}},\"id\":\"1002\",\"subtype\":\"Figure\",\"type\":\"Plot\"},{\"attributes\":{},\"id\":\"1067\",\"type\":\"UnionRenderers\"},{\"attributes\":{\"num_minor_ticks\":5,\"tickers\":[{\"id\":\"1052\",\"type\":\"AdaptiveTicker\"},{\"id\":\"1053\",\"type\":\"AdaptiveTicker\"},{\"id\":\"1054\",\"type\":\"AdaptiveTicker\"},{\"id\":\"1055\",\"type\":\"DaysTicker\"},{\"id\":\"1056\",\"type\":\"DaysTicker\"},{\"id\":\"1057\",\"type\":\"DaysTicker\"},{\"id\":\"1058\",\"type\":\"DaysTicker\"},{\"id\":\"1059\",\"type\":\"MonthsTicker\"},{\"id\":\"1060\",\"type\":\"MonthsTicker\"},{\"id\":\"1061\",\"type\":\"MonthsTicker\"},{\"id\":\"1062\",\"type\":\"MonthsTicker\"},{\"id\":\"1063\",\"type\":\"YearsTicker\"}]},\"id\":\"1012\",\"type\":\"DatetimeTicker\"},{\"attributes\":{\"callback\":null,\"data\":{\"x\":{\"__ndarray__\":\"AABAQTB0dkIAAACngnR2QgAAwAzVdHZCAACAcid1dkIAAEDYeXV2QgAAAD7MdXZCAADAox52dkIAAIAJcXZ2QgAAQG/DdnZCAAAA1RV3dkIAAMA6aHd2QgAAgKC6d3ZCAABABg14dkIAAABsX3h2QgAAwNGxeHZCAACANwR5dkIAAECdVnl2QgAAAAOpeXZCAADAaPt5dkIAAIDOTXp2QgAAQDSgenZCAAAAmvJ6dkIAAMD/RHt2QgAAgGWXe3ZCAABAy+l7dkIAAAAxPHx2Qg==\",\"dtype\":\"float64\",\"shape\":[26]},\"y\":{\"__ndarray__\":\"IvWVswx9ekBoFO7lTOVHwLqbdIVaPjFAQKYdvGh0f0Cw2XT7n4B/QGCYWbsxp4ZAKQkt8lG4gUDAAqlagBZ5QMTG6yGWeVvAuDUDjvKkOcCqG5kQKGB+QA671KZc0X1AQivXYxyfiECBn57ZNoOEQFb6zQFH7XdAACGVPx7TYcDwrQJVqcBJwNoVzpU0VH1A9N4Z30WOfEDsLAdOg/2IQHCgq3OpLIVAjiJm3d3ZdkB65QqarJpkwKCnxV7N01HAZwSWCzVLfECNAa90qXF7QA==\",\"dtype\":\"float64\",\"shape\":[26]}},\"selected\":{\"id\":\"1068\",\"type\":\"Selection\"},\"selection_policy\":{\"id\":\"1067\",\"type\":\"UnionRenderers\"}},\"id\":\"1041\",\"type\":\"ColumnDataSource\"},{\"attributes\":{\"months\":[0,1,2,3,4,5,6,7,8,9,10,11]},\"id\":\"1059\",\"type\":\"MonthsTicker\"},{\"attributes\":{\"callback\":null},\"id\":\"1003\",\"type\":\"DataRange1d\"},{\"attributes\":{\"data_source\":{\"id\":\"1036\",\"type\":\"ColumnDataSource\"},\"glyph\":{\"id\":\"1037\",\"type\":\"Line\"},\"hover_glyph\":null,\"muted_glyph\":null,\"nonselection_glyph\":{\"id\":\"1038\",\"type\":\"Line\"},\"selection_glyph\":null,\"view\":{\"id\":\"1040\",\"type\":\"CDSView\"}},\"id\":\"1039\",\"type\":\"GlyphRenderer\"},{\"attributes\":{},\"id\":\"1026\",\"type\":\"HelpTool\"},{\"attributes\":{\"line_color\":\"orange\",\"x\":{\"field\":\"x\"},\"y\":{\"field\":\"y\"}},\"id\":\"1042\",\"type\":\"Line\"},{\"attributes\":{},\"id\":\"1065\",\"type\":\"UnionRenderers\"},{\"attributes\":{\"data_source\":{\"id\":\"1041\",\"type\":\"ColumnDataSource\"},\"glyph\":{\"id\":\"1042\",\"type\":\"Line\"},\"hover_glyph\":null,\"muted_glyph\":null,\"nonselection_glyph\":{\"id\":\"1043\",\"type\":\"Line\"},\"selection_glyph\":null,\"view\":{\"id\":\"1045\",\"type\":\"CDSView\"}},\"id\":\"1044\",\"type\":\"GlyphRenderer\"},{\"attributes\":{\"line_alpha\":0.1,\"line_color\":\"#1f77b4\",\"x\":{\"field\":\"x\"},\"y\":{\"field\":\"y\"}},\"id\":\"1038\",\"type\":\"Line\"},{\"attributes\":{},\"id\":\"1063\",\"type\":\"YearsTicker\"},{\"attributes\":{\"overlay\":{\"id\":\"1029\",\"type\":\"BoxAnnotation\"}},\"id\":\"1023\",\"type\":\"BoxZoomTool\"},{\"attributes\":{\"source\":{\"id\":\"1041\",\"type\":\"ColumnDataSource\"}},\"id\":\"1045\",\"type\":\"CDSView\"},{\"attributes\":{\"line_alpha\":0.1,\"line_color\":\"#1f77b4\",\"x\":{\"field\":\"x\"},\"y\":{\"field\":\"y\"}},\"id\":\"1043\",\"type\":\"Line\"},{\"attributes\":{\"days\":[1,2,3,4,5,6,7,8,9,10,11,12,13,14,15,16,17,18,19,20,21,22,23,24,25,26,27,28,29,30,31]},\"id\":\"1055\",\"type\":\"DaysTicker\"},{\"attributes\":{},\"id\":\"1017\",\"type\":\"BasicTicker\"},{\"attributes\":{\"callback\":null,\"data\":{\"x\":{\"__ndarray__\":\"AABAtkA6dkIAAAAckzp2QgAAwIHlOnZCAACA5zc7dkIAAEBNijt2QgAAALPcO3ZCAADAGC88dkIAAIB+gTx2QgAAQOTTPHZCAAAASiY9dkIAAMCveD12QgAAgBXLPXZCAABAex0+dkIAAADhbz52QgAAwEbCPnZCAACArBQ/dkIAAEASZz92QgAAAHi5P3ZCAADA3QtAdkIAAIBDXkB2QgAAQKmwQHZCAAAADwNBdkIAAMB0VUF2QgAAgNqnQXZCAABAQPpBdkIAAACmTEJ2QgAAwAufQnZCAACAcfFCdkIAAEDXQ0N2QgAAAD2WQ3ZCAADAouhDdkIAAIAIO0R2QgAAQG6NRHZCAAAA1N9EdkIAAMA5MkV2QgAAgJ+ERXZCAABABddFdkIAAABrKUZ2QgAAwNB7RnZCAACANs5GdkIAAECcIEd2QgAAAAJzR3ZCAADAZ8VHdkIAAIDNF0h2QgAAQDNqSHZCAAAAmbxIdkIAAMD+Dkl2QgAAgGRhSXZCAABAyrNJdkIAAAAwBkp2QgAAwJVYSnZCAACA+6pKdkIAAEBh/Up2QgAAAMdPS3ZCAADALKJLdkIAAICS9Et2QgAAQPhGTHZCAAAAXplMdkIAAMDD60x2QgAAgCk+TXZCAABAj5BNdkIAAAD14k12QgAAwFo1TnZCAACAwIdOdkIAAEAm2k52QgAAAIwsT3ZCAADA8X5PdkIAAIBX0U92QgAAQL0jUHZCAAAAI3ZQdkIAAMCIyFB2QgAAgO4aUXZCAABAVG1RdkIAAAC6v1F2QgAAwB8SUnZCAACAhWRSdkIAAEDrtlJ2QgAAAFEJU3ZCAADAtltTdkIAAIAcrlN2QgAAQIIAVHZCAAAA6FJUdkIAAMBNpVR2QgAAgLP3VHZCAABAGUpVdkIAAAB/nFV2QgAAwOTuVXZCAACASkFWdkIAAECwk1Z2QgAAABbmVnZCAADAezhXdkIAAIDhild2QgAAQEfdV3ZCAAAArS9YdkIAAMASglh2QgAAgHjUWHZCAABA3iZZdkIAAABEeVl2QgAAwKnLWXZCAACADx5adkIAAEB1cFp2QgAAANvCWnZCAADAQBVbdkIAAICmZ1t2QgAAQAy6W3ZCAAAAcgxcdkIAAMDXXlx2QgAAgD2xXHZCAABAowNddkIAAAAJVl12QgAAwG6oXXZCAACA1PpddkIAAEA6TV52QgAAAKCfXnZCAADABfJedkIAAIBrRF92QgAAQNGWX3ZCAAAAN+lfdkIAAMCcO2B2QgAAgAKOYHZCAABAaOBgdkIAAADOMmF2QgAAwDOFYXZCAACAmddhdkIAAED/KWJ2QgAAAGV8YnZCAADAys5idkIAAIAwIWN2QgAAQJZzY3ZCAAAA/MVjdkIAAMBhGGR2QgAAgMdqZHZCAABALb1kdkIAAACTD2V2QgAAwPhhZXZCAACAXrRldkIAAEDEBmZ2QgAAACpZZnZCAADAj6tmdkIAAID1/WZ2QgAAQFtQZ3ZCAAAAwaJndkIAAMAm9Wd2QgAAgIxHaHZCAABA8plodkIAAABY7Gh2QgAAwL0+aXZCAACAI5FpdkIAAECJ42l2QgAAAO81anZCAADAVIhqdkIAAIC62mp2QgAAQCAta3ZCAAAAhn9rdkIAAMDr0Wt2QgAAgFEkbHZCAABAt3ZsdkIAAAAdyWx2QgAAwIIbbXZCAACA6G1tdkIAAEBOwG12QgAAALQSbnZCAADAGWVudkIAAIB/t252QgAAQOUJb3ZCAAAAS1xvdkIAAMCwrm92QgAAgBYBcHZCAABAfFNwdkIAAADipXB2QgAAwEf4cHZCAACArUpxdkIAAEATnXF2QgAAAHnvcXZCAADA3kFydkIAAIBElHJ2QgAAQKrmcnZCAAAAEDlzdkIAAMB1i3N2QgAAgNvdc3ZCAABAQTB0dkIAAACngnR2QgAAwAzVdHZCAACAcid1dkIAAEDYeXV2QgAAAD7MdXZCAADAox52dkIAAIAJcXZ2QgAAQG/DdnZCAAAA1RV3dkI=\",\"dtype\":\"float64\",\"shape\":[190]},\"y\":{\"__ndarray__\":\"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\",\"dtype\":\"float64\",\"shape\":[190]}},\"selected\":{\"id\":\"1066\",\"type\":\"Selection\"},\"selection_policy\":{\"id\":\"1065\",\"type\":\"UnionRenderers\"}},\"id\":\"1036\",\"type\":\"ColumnDataSource\"},{\"attributes\":{\"months\":[0,6]},\"id\":\"1062\",\"type\":\"MonthsTicker\"},{\"attributes\":{\"callback\":null},\"id\":\"1005\",\"type\":\"DataRange1d\"},{\"attributes\":{\"line_color\":\"#1f77b4\",\"x\":{\"field\":\"x\"},\"y\":{\"field\":\"y\"}},\"id\":\"1037\",\"type\":\"Line\"},{\"attributes\":{\"active_drag\":\"auto\",\"active_inspect\":\"auto\",\"active_multi\":null,\"active_scroll\":\"auto\",\"active_tap\":\"auto\",\"tools\":[{\"id\":\"1021\",\"type\":\"PanTool\"},{\"id\":\"1022\",\"type\":\"WheelZoomTool\"},{\"id\":\"1023\",\"type\":\"BoxZoomTool\"},{\"id\":\"1024\",\"type\":\"SaveTool\"},{\"id\":\"1025\",\"type\":\"ResetTool\"},{\"id\":\"1026\",\"type\":\"HelpTool\"}]},\"id\":\"1027\",\"type\":\"Toolbar\"},{\"attributes\":{\"months\":[0,2,4,6,8,10]},\"id\":\"1060\",\"type\":\"MonthsTicker\"},{\"attributes\":{\"base\":60,\"mantissas\":[1,2,5,10,15,20,30],\"max_interval\":1800000.0,\"min_interval\":1000.0,\"num_minor_ticks\":0},\"id\":\"1053\",\"type\":\"AdaptiveTicker\"},{\"attributes\":{},\"id\":\"1066\",\"type\":\"Selection\"},{\"attributes\":{\"axis_label\":\"Date\",\"axis_label_text_font_size\":{\"value\":\"18pt\"},\"formatter\":{\"id\":\"1049\",\"type\":\"DatetimeTickFormatter\"},\"major_label_orientation\":0.7853981633974483,\"plot\":{\"id\":\"1002\",\"subtype\":\"Figure\",\"type\":\"Plot\"},\"ticker\":{\"id\":\"1012\",\"type\":\"DatetimeTicker\"}},\"id\":\"1011\",\"type\":\"DatetimeAxis\"},{\"attributes\":{},\"id\":\"1068\",\"type\":\"Selection\"},{\"attributes\":{\"plot\":null,\"text\":\"\"},\"id\":\"1046\",\"type\":\"Title\"},{\"attributes\":{},\"id\":\"1021\",\"type\":\"PanTool\"},{\"attributes\":{\"months\":[0,4,8]},\"id\":\"1061\",\"type\":\"MonthsTicker\"},{\"attributes\":{\"axis_label\":\"Count\",\"axis_label_text_font_size\":{\"value\":\"18pt\"},\"formatter\":{\"id\":\"1051\",\"type\":\"BasicTickFormatter\"},\"plot\":{\"id\":\"1002\",\"subtype\":\"Figure\",\"type\":\"Plot\"},\"ticker\":{\"id\":\"1017\",\"type\":\"BasicTicker\"}},\"id\":\"1016\",\"type\":\"LinearAxis\"},{\"attributes\":{\"base\":24,\"mantissas\":[1,2,4,6,8,12],\"max_interval\":43200000.0,\"min_interval\":3600000.0,\"num_minor_ticks\":0},\"id\":\"1054\",\"type\":\"AdaptiveTicker\"},{\"attributes\":{\"bottom_units\":\"screen\",\"fill_alpha\":{\"value\":0.5},\"fill_color\":{\"value\":\"lightgrey\"},\"left_units\":\"screen\",\"level\":\"overlay\",\"line_alpha\":{\"value\":1.0},\"line_color\":{\"value\":\"black\"},\"line_dash\":[4,4],\"line_width\":{\"value\":2},\"plot\":null,\"render_mode\":\"css\",\"right_units\":\"screen\",\"top_units\":\"screen\"},\"id\":\"1029\",\"type\":\"BoxAnnotation\"},{\"attributes\":{},\"id\":\"1051\",\"type\":\"BasicTickFormatter\"},{\"attributes\":{},\"id\":\"1022\",\"type\":\"WheelZoomTool\"},{\"attributes\":{},\"id\":\"1009\",\"type\":\"LinearScale\"},{\"attributes\":{},\"id\":\"1007\",\"type\":\"LinearScale\"},{\"attributes\":{\"mantissas\":[1,2,5],\"max_interval\":500.0,\"num_minor_ticks\":0},\"id\":\"1052\",\"type\":\"AdaptiveTicker\"},{\"attributes\":{},\"id\":\"1049\",\"type\":\"DatetimeTickFormatter\"},{\"attributes\":{\"days\":[1,4,7,10,13,16,19,22,25,28]},\"id\":\"1056\",\"type\":\"DaysTicker\"},{\"attributes\":{\"days\":[1,15]},\"id\":\"1058\",\"type\":\"DaysTicker\"},{\"attributes\":{},\"id\":\"1024\",\"type\":\"SaveTool\"},{\"attributes\":{\"plot\":{\"id\":\"1002\",\"subtype\":\"Figure\",\"type\":\"Plot\"},\"ticker\":{\"id\":\"1012\",\"type\":\"DatetimeTicker\"}},\"id\":\"1015\",\"type\":\"Grid\"},{\"attributes\":{\"days\":[1,8,15,22]},\"id\":\"1057\",\"type\":\"DaysTicker\"},{\"attributes\":{},\"id\":\"1025\",\"type\":\"ResetTool\"},{\"attributes\":{\"source\":{\"id\":\"1036\",\"type\":\"ColumnDataSource\"}},\"id\":\"1040\",\"type\":\"CDSView\"},{\"attributes\":{\"dimension\":1,\"plot\":{\"id\":\"1002\",\"subtype\":\"Figure\",\"type\":\"Plot\"},\"ticker\":{\"id\":\"1017\",\"type\":\"BasicTicker\"}},\"id\":\"1020\",\"type\":\"Grid\"}],\"root_ids\":[\"1002\"]},\"title\":\"Bokeh Application\",\"version\":\"1.0.4\"}};\n",
       "  var render_items = [{\"docid\":\"860c88da-8c69-428b-8326-2c1e50801b05\",\"roots\":{\"1002\":\"793b58bf-01c5-4e9d-94df-11bac9a2f6f3\"}}];\n",
       "  root.Bokeh.embed.embed_items_notebook(docs_json, render_items);\n",
       "\n",
       "  }\n",
       "  if (root.Bokeh !== undefined) {\n",
       "    embed_document(root);\n",
       "  } else {\n",
       "    var attempts = 0;\n",
       "    var timer = setInterval(function(root) {\n",
       "      if (root.Bokeh !== undefined) {\n",
       "        embed_document(root);\n",
       "        clearInterval(timer);\n",
       "      }\n",
       "      attempts++;\n",
       "      if (attempts > 100) {\n",
       "        console.log(\"Bokeh: ERROR: Unable to run BokehJS code because BokehJS library is missing\");\n",
       "        clearInterval(timer);\n",
       "      }\n",
       "    }, 10, root)\n",
       "  }\n",
       "})(window);"
      ],
      "application/vnd.bokehjs_exec.v0+json": ""
     },
     "metadata": {
      "application/vnd.bokehjs_exec.v0+json": {
       "id": "1002"
      }
     },
     "output_type": "display_data"
    }
   ],
   "source": [
    "show(p)"
   ]
  },
  {
   "cell_type": "markdown",
   "metadata": {
    "slideshow": {
     "slide_type": "notes"
    }
   },
   "source": [
    "pretty version in bokeh<br>\n",
    "typical meant for server graph stuff <br>\n",
    "allows scrolling and export<br>\n",
    "supports buttons and dropdowns <br>"
   ]
  },
  {
   "cell_type": "code",
   "execution_count": 24,
   "metadata": {
    "slideshow": {
     "slide_type": "slide"
    }
   },
   "outputs": [],
   "source": [
    "import seaborn as sns\n",
    "df_bokeh['type'] = 'actuals'\n",
    "df_prediction['type'] = 'predictions'\n",
    "df_plt = pandas.concat([df_bokeh,df_prediction])"
   ]
  },
  {
   "cell_type": "code",
   "execution_count": 25,
   "metadata": {
    "slideshow": {
     "slide_type": "slide"
    }
   },
   "outputs": [
    {
     "data": {
      "text/plain": [
       "Text(0, 0.5, 'Count')"
      ]
     },
     "execution_count": 25,
     "metadata": {},
     "output_type": "execute_result"
    },
    {
     "data": {
      "image/png": "[encoded data removed]",
      "text/plain": [
       "<Figure size 1080x576 with 1 Axes>"
      ]
     },
     "metadata": {},
     "output_type": "display_data"
    }
   ],
   "source": [
    "sns.set(rc={'figure.figsize':(15,8)})\n",
    "pretty = sns.lineplot(x=\"date\", y=\"md5\", hue='type', data=df_plt)\n",
    "pretty.set_xlabel(\"Date\",fontsize=25)\n",
    "pretty.set_ylabel(\"Count\",fontsize=25)"
   ]
  },
  {
   "cell_type": "markdown",
   "metadata": {
    "slideshow": {
     "slide_type": "notes"
    }
   },
   "source": [
    "plot in seaboard - matplotlib overlay<br>\n",
    "reduced to one line<br>\n",
    "required that dataframe had a column label/hue<br>"
   ]
  },
  {
   "cell_type": "markdown",
   "metadata": {
    "slideshow": {
     "slide_type": "slide"
    }
   },
   "source": [
    "<IMG src=\"./images/Notebook/Slide11.jpeg\">"
   ]
  },
  {
   "cell_type": "markdown",
   "metadata": {
    "slideshow": {
     "slide_type": "slide"
    }
   },
   "source": [
    "<IMG src=\"./images/Notebook/Slide12.jpeg\">"
   ]
  },
  {
   "cell_type": "code",
   "execution_count": 26,
   "metadata": {
    "slideshow": {
     "slide_type": "slide"
    }
   },
   "outputs": [],
   "source": [
    "%run /Users/c266770/Desktop/notebooks/proxy-load.ipynb"
   ]
  },
  {
   "cell_type": "markdown",
   "metadata": {
    "slideshow": {
     "slide_type": "notes"
    }
   },
   "source": [
    "another magic command<br>\n",
    "this one run scripts and pull the globals into the existing scripts for use<br>\n",
    "libraries without the formality<br>"
   ]
  },
  {
   "cell_type": "code",
   "execution_count": 27,
   "metadata": {
    "slideshow": {
     "slide_type": "slide"
    }
   },
   "outputs": [],
   "source": [
    "def vt_call(hashes):\n",
    "    from time import sleep\n",
    "    headers = {\"Accept-Encoding\": \"gzip, deflate\", \"User-Agent\" : \"python\"}\n",
    "    result_dict = {};counter = 1\n",
    "    if type(hashes) == list:\n",
    "        hashes = list(zip(range(1,len(hashes) + 1), hashes))\n",
    "        lookupList = []\n",
    "        for lookupTuple in hashes:\n",
    "            lookupList.append(lookupTuple[1])\n",
    "            if (lookupTuple[0] % 4 == 0) | (lookupTuple[1] == hashes[-1][1]):\n",
    "                print('Request number '+str(counter)+' to virustotal'); counter += 1\n",
    "                params = {'apikey': api['vt'], 'resource': ','.join(lookupList)}\n",
    "                request = requests.get('https://www.virustotal.com/vtapi/v2/file/report',\n",
    "                                       params = params, \n",
    "                                       headers = headers,\n",
    "                                       proxies = proxies).json()\n",
    "                for result in ([request] if type(request) != list else request):\n",
    "                    try:\n",
    "                        result_dict[result['md5']] = result\n",
    "                        del result_dict[result['md5']]['scans']\n",
    "                        del result_dict[result['md5']]['md5']\n",
    "                    except:\n",
    "                        result_dict[result['md5']] = {'response_code': 1}\n",
    "                sleep(60)\n",
    "                lookupList = []\n",
    "            else:\n",
    "                continue\n",
    "        return result_dict\n",
    "    else:\n",
    "        raise TypeError('input must be a python list')      "
   ]
  },
  {
   "cell_type": "markdown",
   "metadata": {
    "slideshow": {
     "slide_type": "notes"
    }
   },
   "source": [
    "a larger function - but not in third version since drafting the presentation<br>\n",
    "accepts only a lists<br>\n",
    "if string is comma seperate make into list<br>\n",
    "creates a counter and iterates through the list that has been made into a tuple <br>\n",
    "pulls in api key from pickle<br>\n",
    "finds the response from virustotal and combines them<br>\n"
   ]
  },
  {
   "cell_type": "code",
   "execution_count": 28,
   "metadata": {
    "slideshow": {
     "slide_type": "slide"
    }
   },
   "outputs": [
    {
     "name": "stdout",
     "output_type": "stream",
     "text": [
      "Request number 1 to virustotal\n",
      "Request number 2 to virustotal\n"
     ]
    }
   ],
   "source": [
    "test = ['866fcd320412a9fdd78aefc31372c74e', #Filezilla\n",
    "        '29c1a72fa565f339065d1f6c8a58de11', #Fake AV - Ming web report\n",
    "        '38acd35c1b04167823c83bbd8a12352c', #Packer - RDPOn.exe\n",
    "        '28b78a1ab9f541a0a85cb853eb556fe8', #Adware - Coupons\n",
    "        'ac8c1fa592b1551fd57072c371b7c748'] #Asparnet\n",
    "\n",
    "vt_results = vt_call(test)"
   ]
  },
  {
   "cell_type": "markdown",
   "metadata": {
    "slideshow": {
     "slide_type": "notes"
    }
   },
   "source": [
    "list of hashes with 5. <br>\n",
    "returned back into vt_results as a dictionary <br>\n",
    "remove some of the crazy scan stuff <br>"
   ]
  },
  {
   "cell_type": "code",
   "execution_count": 29,
   "metadata": {
    "slideshow": {
     "slide_type": "slide"
    }
   },
   "outputs": [
    {
     "name": "stdout",
     "output_type": "stream",
     "text": [
      "866fcd320412a9fdd78aefc31372c74e 19\n",
      "29c1a72fa565f339065d1f6c8a58de11 15\n",
      "38acd35c1b04167823c83bbd8a12352c 13\n",
      "28b78a1ab9f541a0a85cb853eb556fe8 17\n",
      "ac8c1fa592b1551fd57072c371b7c748 19\n"
     ]
    }
   ],
   "source": [
    "for key, value in vt_results.items():\n",
    "    print(key,value['positives'])"
   ]
  },
  {
   "cell_type": "markdown",
   "metadata": {
    "slideshow": {
     "slide_type": "notes"
    }
   },
   "source": [
    "prints out the hash <br>\n",
    "prints out the positives <br>"
   ]
  },
  {
   "cell_type": "code",
   "execution_count": 30,
   "metadata": {
    "slideshow": {
     "slide_type": "slide"
    }
   },
   "outputs": [
    {
     "data": {
      "text/html": [
       "<div>\n",
       "<style scoped>\n",
       "    .dataframe tbody tr th:only-of-type {\n",
       "        vertical-align: middle;\n",
       "    }\n",
       "\n",
       "    .dataframe tbody tr th {\n",
       "        vertical-align: top;\n",
       "    }\n",
       "\n",
       "    .dataframe thead th {\n",
       "        text-align: right;\n",
       "    }\n",
       "</style>\n",
       "<table border=\"1\" class=\"dataframe\">\n",
       "  <thead>\n",
       "    <tr style=\"text-align: right;\">\n",
       "      <th></th>\n",
       "      <th>total</th>\n",
       "      <th>positives</th>\n",
       "    </tr>\n",
       "  </thead>\n",
       "  <tbody>\n",
       "    <tr>\n",
       "      <th>28b78a1ab9f541a0a85cb853eb556fe8</th>\n",
       "      <td>68</td>\n",
       "      <td>17</td>\n",
       "    </tr>\n",
       "    <tr>\n",
       "      <th>29c1a72fa565f339065d1f6c8a58de11</th>\n",
       "      <td>67</td>\n",
       "      <td>15</td>\n",
       "    </tr>\n",
       "    <tr>\n",
       "      <th>38acd35c1b04167823c83bbd8a12352c</th>\n",
       "      <td>66</td>\n",
       "      <td>13</td>\n",
       "    </tr>\n",
       "    <tr>\n",
       "      <th>866fcd320412a9fdd78aefc31372c74e</th>\n",
       "      <td>68</td>\n",
       "      <td>19</td>\n",
       "    </tr>\n",
       "    <tr>\n",
       "      <th>ac8c1fa592b1551fd57072c371b7c748</th>\n",
       "      <td>67</td>\n",
       "      <td>19</td>\n",
       "    </tr>\n",
       "  </tbody>\n",
       "</table>\n",
       "</div>"
      ],
      "text/plain": [
       "                                  total  positives\n",
       "28b78a1ab9f541a0a85cb853eb556fe8     68         17\n",
       "29c1a72fa565f339065d1f6c8a58de11     67         15\n",
       "38acd35c1b04167823c83bbd8a12352c     66         13\n",
       "866fcd320412a9fdd78aefc31372c74e     68         19\n",
       "ac8c1fa592b1551fd57072c371b7c748     67         19"
      ]
     },
     "execution_count": 30,
     "metadata": {},
     "output_type": "execute_result"
    }
   ],
   "source": [
    "import pandas\n",
    "import os\n",
    "some_directory = '/tmp'\n",
    "\n",
    "df_hashes = pandas.DataFrame.from_dict(vt_results, orient='index')\n",
    "df_hashes.to_excel(os.path.join(some_directory,'hashes.xls'))\n",
    "json_hashes = df_hashes.to_json()\n",
    "df_hashes[['total','positives']].head(5)"
   ]
  },
  {
   "cell_type": "markdown",
   "metadata": {
    "slideshow": {
     "slide_type": "notes"
    }
   },
   "source": [
    "convert the dictionary to a pandas dataframe<br>\n",
    "pandas allows easy export to excel and json<br>"
   ]
  },
  {
   "cell_type": "markdown",
   "metadata": {
    "slideshow": {
     "slide_type": "slide"
    }
   },
   "source": [
    "<IMG src=\"./images/Notebook/Slide13.jpeg\">"
   ]
  },
  {
   "cell_type": "markdown",
   "metadata": {
    "slideshow": {
     "slide_type": "slide"
    }
   },
   "source": [
    "<IMG src=\"./images/Notebook/Slide3.jpeg\">"
   ]
  },
  {
   "cell_type": "code",
   "execution_count": null,
   "metadata": {
    "slideshow": {
     "slide_type": "skip"
    }
   },
   "outputs": [],
   "source": [
    "import http.server\n",
    "import socketserver\n",
    "\n",
    "PORT = 8256\n",
    "\n",
    "os.chdir('.')\n",
    "\n",
    "Handler = http.server.SimpleHTTPRequestHandler\n",
    "\n",
    "with socketserver.TCPServer((\"\", PORT), Handler) as httpd:\n",
    "    print(\"serving at port\", PORT)\n",
    "    httpd.serve_forever()"
   ]
  },
  {
   "cell_type": "markdown",
   "metadata": {
    "slideshow": {
     "slide_type": "notes"
    }
   },
   "source": [
    "Due to the web resources/browser needed to facilitate this presentation, it was exported to a PDF for your review. Unfortunately, the speaker notes in this export overlapped the slides on certain pages. This was my only serious technical issue in crafting this newer content.\n",
    "\n",
    "As the conference approaches and the presentation finalized. It will be shared on github without the underlying data to facilitate graphs etc.\n",
    "\n",
    "Another possibility presently being explored is allowing the audience some participation with AWS SageMaker, Azure Notebooks, or Google Cloud Datalab. This also was not accomplished with the original presentation with the Indianapolis SOC meetup.\n",
    "\n",
    "Thanks for your review and please contact me with any thoughts.\n",
    "Toby\n",
    "hendricks_tobias@lilly.com"
   ]
  },
  {
   "cell_type": "markdown",
   "metadata": {
    "slideshow": {
     "slide_type": "notes"
    }
   },
   "source": [
    "The attached is a revised presentation that was presented to Indianapolis SOC members in regards to notebooks. \n",
    "\n",
    "Since the original presentation, it was discovered that Jupyter [which is a notebook technology] has a capability to export to slides using reveal.js [a Powerpoint like presentation software that makes items web available]. \n",
    "\n",
    "The advantage in using reveal.js is:\n",
    "* The Python code and plots in this demonstration can be easily presented without screenshots.\n",
    "* Graphs and visualizations are displayed without exporting from the notebook and attaching into Powerpoint slides.\n",
    "* Edits to the presentation can be conducted with relative ease.\n",
    "* The look and feel of a reveal.js presentation has a certain Prezi attributes. See reveal.js here.\n",
    "* The content, as code, can be easily shared via github. This will allow interested participates to cut/paste code snips for their use. As such, the content of the code has been scrubbed of Lilly specific technologies.\n",
    "* It’s good to be different. It won’t be ‘just another Powerpoint’ presentation"
   ]
  },
  {
   "cell_type": "code",
   "execution_count": null,
   "metadata": {
    "slideshow": {
     "slide_type": "skip"
    }
   },
   "outputs": [],
   "source": [
    "import requests\n",
    "\n",
    "#function for calling vt - requests based\n",
    "def vt_call(hashes):\n",
    "    from time import sleep \n",
    "    \n",
    "    #test the list\n",
    "    if type(hashes) == list:\n",
    "        if len(hashes) < 5:\n",
    "            resource = ','.join(hashes)\n",
    "                \n",
    "        elif len(hashes) >= 5:\n",
    "            resource = [hashes[i:i + 4] for i in range(0, len(hashes), 4)]\n",
    "        else:\n",
    "            return 'empty list?'\n",
    "    elif type(hashes) == str and len(hashes.split(',')) == 1:\n",
    "        resource = hashes\n",
    "    elif type(hashes) == str and len(hashes.split(',')) < 4:\n",
    "        resource = hashes\n",
    "    elif type(hashes) == str and len(hashes.split(',')) > 4:\n",
    "        #break things up if bigger than 4\n",
    "        hashes = hashes.split(',')\n",
    "        resource = [hashes[i:i + 4] for i in range(0, len(hashes), 4)]\n",
    "    else:\n",
    "        return ''\n",
    "    \n",
    "    headers = {\"Accept-Encoding\": \"gzip, deflate\",\n",
    "               \"User-Agent\" : \"python\"\n",
    "              }\n",
    "    \n",
    "    if type(resource) != list:\n",
    "        params = {'apikey': api['vt'], 'resource': resource}\n",
    "        response = requests.get('https://www.virustotal.com/vtapi/v2/file/report',\n",
    "                                params = params, \n",
    "                                headers = headers,\n",
    "                                proxies = proxies)\n",
    "        return response.json()\n",
    "    else:\n",
    "        response = []\n",
    "        for hash_list in resource:\n",
    "            params = {'apikey': api['vt'], 'resource': ','.join(hash_list)}\n",
    "            vt_request = requests.get('https://www.virustotal.com/vtapi/v2/file/report',\n",
    "                                      params = params,\n",
    "                                      headers = headers,\n",
    "                                      proxies = proxies)\n",
    "            new_stuff = vt_request.json()\n",
    "            #todo: sleep if too many\n",
    "            if type(new_stuff) == dict:\n",
    "                temp_list = []\n",
    "                temp_list.append(new_stuff)\n",
    "                #combine the responses\n",
    "                response = response + temp_list\n",
    "            else:\n",
    "                response = response + new_stuff\n",
    "            \n",
    "        return response"
   ]
  }
 ],
 "metadata": {
  "celltoolbar": "Slideshow",
  "kernelspec": {
   "display_name": "Python 3",
   "language": "python",
   "name": "python3"
  },
  "language_info": {
   "codemirror_mode": {
    "name": "ipython",
    "version": 3
   },
   "file_extension": ".py",
   "mimetype": "text/x-python",
   "name": "python",
   "nbconvert_exporter": "python",
   "pygments_lexer": "ipython3",
   "version": "3.7.4"
  }
 },
 "nbformat": 4,
 "nbformat_minor": 4
}
